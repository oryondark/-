{
 "cells": [
  {
   "cell_type": "markdown",
   "metadata": {},
   "source": [
    "Theano란 Keras와 같은 현재 많이 알려진 오픈소스 딥러닝 프레임워크의 기반이된 도구 <br>\n",
    "최근 Tensorflow와 Theano를 두고 비교하여, 적절한 딥러닝 프레임워크를 사용하고 있다.<br>"
   ]
  },
  {
   "cell_type": "markdown",
   "metadata": {},
   "source": [
    "# 자동 문장 만들기"
   ]
  },
  {
   "cell_type": "code",
   "execution_count": 39,
   "metadata": {
    "scrolled": true
   },
   "outputs": [
    {
     "name": "stdout",
     "output_type": "stream",
     "text": [
      "[nltk_data] Downloading collection 'book'\n",
      "[nltk_data]    | \n",
      "[nltk_data]    | Downloading package abc to /root/nltk_data...\n",
      "[nltk_data]    |   Package abc is already up-to-date!\n",
      "[nltk_data]    | Downloading package brown to /root/nltk_data...\n",
      "[nltk_data]    |   Package brown is already up-to-date!\n",
      "[nltk_data]    | Downloading package chat80 to /root/nltk_data...\n",
      "[nltk_data]    |   Package chat80 is already up-to-date!\n",
      "[nltk_data]    | Downloading package cmudict to /root/nltk_data...\n",
      "[nltk_data]    |   Package cmudict is already up-to-date!\n",
      "[nltk_data]    | Downloading package conll2000 to /root/nltk_data...\n",
      "[nltk_data]    |   Package conll2000 is already up-to-date!\n",
      "[nltk_data]    | Downloading package conll2002 to /root/nltk_data...\n",
      "[nltk_data]    |   Package conll2002 is already up-to-date!\n",
      "[nltk_data]    | Downloading package dependency_treebank to\n",
      "[nltk_data]    |     /root/nltk_data...\n",
      "[nltk_data]    |   Package dependency_treebank is already up-to-date!\n",
      "[nltk_data]    | Downloading package genesis to /root/nltk_data...\n",
      "[nltk_data]    |   Package genesis is already up-to-date!\n",
      "[nltk_data]    | Downloading package gutenberg to /root/nltk_data...\n",
      "[nltk_data]    |   Package gutenberg is already up-to-date!\n",
      "[nltk_data]    | Downloading package ieer to /root/nltk_data...\n",
      "[nltk_data]    |   Package ieer is already up-to-date!\n",
      "[nltk_data]    | Downloading package inaugural to /root/nltk_data...\n",
      "[nltk_data]    |   Package inaugural is already up-to-date!\n",
      "[nltk_data]    | Downloading package movie_reviews to\n",
      "[nltk_data]    |     /root/nltk_data...\n",
      "[nltk_data]    |   Package movie_reviews is already up-to-date!\n",
      "[nltk_data]    | Downloading package nps_chat to /root/nltk_data...\n",
      "[nltk_data]    |   Package nps_chat is already up-to-date!\n",
      "[nltk_data]    | Downloading package names to /root/nltk_data...\n",
      "[nltk_data]    |   Package names is already up-to-date!\n",
      "[nltk_data]    | Downloading package ppattach to /root/nltk_data...\n",
      "[nltk_data]    |   Package ppattach is already up-to-date!\n",
      "[nltk_data]    | Downloading package reuters to /root/nltk_data...\n",
      "[nltk_data]    |   Package reuters is already up-to-date!\n",
      "[nltk_data]    | Downloading package senseval to /root/nltk_data...\n",
      "[nltk_data]    |   Package senseval is already up-to-date!\n",
      "[nltk_data]    | Downloading package state_union to /root/nltk_data...\n",
      "[nltk_data]    |   Package state_union is already up-to-date!\n",
      "[nltk_data]    | Downloading package stopwords to /root/nltk_data...\n",
      "[nltk_data]    |   Package stopwords is already up-to-date!\n",
      "[nltk_data]    | Downloading package swadesh to /root/nltk_data...\n",
      "[nltk_data]    |   Package swadesh is already up-to-date!\n",
      "[nltk_data]    | Downloading package timit to /root/nltk_data...\n",
      "[nltk_data]    |   Package timit is already up-to-date!\n",
      "[nltk_data]    | Downloading package treebank to /root/nltk_data...\n",
      "[nltk_data]    |   Package treebank is already up-to-date!\n",
      "[nltk_data]    | Downloading package toolbox to /root/nltk_data...\n",
      "[nltk_data]    |   Package toolbox is already up-to-date!\n",
      "[nltk_data]    | Downloading package udhr to /root/nltk_data...\n",
      "[nltk_data]    |   Package udhr is already up-to-date!\n",
      "[nltk_data]    | Downloading package udhr2 to /root/nltk_data...\n",
      "[nltk_data]    |   Package udhr2 is already up-to-date!\n",
      "[nltk_data]    | Downloading package unicode_samples to\n",
      "[nltk_data]    |     /root/nltk_data...\n",
      "[nltk_data]    |   Package unicode_samples is already up-to-date!\n",
      "[nltk_data]    | Downloading package webtext to /root/nltk_data...\n",
      "[nltk_data]    |   Package webtext is already up-to-date!\n",
      "[nltk_data]    | Downloading package wordnet to /root/nltk_data...\n",
      "[nltk_data]    |   Package wordnet is already up-to-date!\n",
      "[nltk_data]    | Downloading package wordnet_ic to /root/nltk_data...\n",
      "[nltk_data]    |   Package wordnet_ic is already up-to-date!\n",
      "[nltk_data]    | Downloading package words to /root/nltk_data...\n",
      "[nltk_data]    |   Package words is already up-to-date!\n",
      "[nltk_data]    | Downloading package maxent_treebank_pos_tagger to\n",
      "[nltk_data]    |     /root/nltk_data...\n",
      "[nltk_data]    |   Package maxent_treebank_pos_tagger is already up-\n",
      "[nltk_data]    |       to-date!\n",
      "[nltk_data]    | Downloading package maxent_ne_chunker to\n",
      "[nltk_data]    |     /root/nltk_data...\n",
      "[nltk_data]    |   Package maxent_ne_chunker is already up-to-date!\n",
      "[nltk_data]    | Downloading package universal_tagset to\n",
      "[nltk_data]    |     /root/nltk_data...\n",
      "[nltk_data]    |   Package universal_tagset is already up-to-date!\n",
      "[nltk_data]    | Downloading package punkt to /root/nltk_data...\n",
      "[nltk_data]    |   Package punkt is already up-to-date!\n",
      "[nltk_data]    | Downloading package book_grammars to\n",
      "[nltk_data]    |     /root/nltk_data...\n",
      "[nltk_data]    |   Package book_grammars is already up-to-date!\n",
      "[nltk_data]    | Downloading package city_database to\n",
      "[nltk_data]    |     /root/nltk_data...\n",
      "[nltk_data]    |   Package city_database is already up-to-date!\n",
      "[nltk_data]    | Downloading package tagsets to /root/nltk_data...\n",
      "[nltk_data]    |   Package tagsets is already up-to-date!\n",
      "[nltk_data]    | Downloading package panlex_swadesh to\n",
      "[nltk_data]    |     /root/nltk_data...\n",
      "[nltk_data]    |   Package panlex_swadesh is already up-to-date!\n",
      "[nltk_data]    | Downloading package averaged_perceptron_tagger to\n",
      "[nltk_data]    |     /root/nltk_data...\n",
      "[nltk_data]    |   Package averaged_perceptron_tagger is already up-\n",
      "[nltk_data]    |       to-date!\n",
      "[nltk_data]    | \n",
      "[nltk_data]  Done downloading collection book\n"
     ]
    },
    {
     "data": {
      "text/plain": [
       "True"
      ]
     },
     "execution_count": 39,
     "metadata": {},
     "output_type": "execute_result"
    }
   ],
   "source": [
    "import csv\n",
    "import itertools\n",
    "import operator\n",
    "import numpy as np\n",
    "import nltk # 형태소 분석을 위한 자연어 처리 패키지\n",
    "import sys\n",
    "from datetime import datetime\n",
    "from utils import *\n",
    "import tensorflow as tf\n",
    "\n",
    "import matplotlib.pyplot as plt\n",
    "%matplotlib inline\n",
    "nltk.download(\"book\")"
   ]
  },
  {
   "cell_type": "markdown",
   "metadata": {},
   "source": [
    "### RNN 학습을 위한 문자열 토큰 제한 설정"
   ]
  },
  {
   "cell_type": "code",
   "execution_count": 40,
   "metadata": {},
   "outputs": [],
   "source": [
    "vocabulary_size = 8000 # 8천 단어 입력으로 제한\n",
    "unknown_token = \"UNKNOWN_TOKEN\" # 단어장에 단어가 없을 때, 리턴\n",
    "sentence_start_token = \"SENTENCE_START\" # 문장에 가장 첫 포인터 역할\n",
    "sentence_end_token = \"SENTENCE_END\" # 문장에 가장 마지막 포인터 역할"
   ]
  },
  {
   "cell_type": "code",
   "execution_count": 41,
   "metadata": {},
   "outputs": [
    {
     "name": "stdout",
     "output_type": "stream",
     "text": [
      "약 37657 문장을 파서했습니다.\n"
     ]
    }
   ],
   "source": [
    "#Google BigQuery API를 이용하여 다운로드 받은 댓글문자열 15,000 데이터셋\n",
    "with open('./reddit-comment-20180718-104322.csv', 'r', encoding=\"utf-8\") as f:\n",
    "    reader = csv.reader(f, skipinitialspace=True, delimiter=\",\")\n",
    "    next(reader)\n",
    "    # Split full comments into sentences\n",
    "    sentences = itertools.chain(*[nltk.sent_tokenize(x[0].lower()) for x in reader])\n",
    "    # Append SENTENCE_START and SENTENCE_END\n",
    "    sentences = [\"%s %s %s\" % (sentence_start_token, x, sentence_end_token) for x in sentences]\n",
    "\n",
    "print(\"약 %d 문장을 파서했습니다.\" % (len(sentences)))"
   ]
  },
  {
   "cell_type": "code",
   "execution_count": 42,
   "metadata": {},
   "outputs": [
    {
     "name": "stdout",
     "output_type": "stream",
     "text": [
      "35260 단어를 찾았습니다..\n"
     ]
    }
   ],
   "source": [
    "tokenized_sentences = [nltk.word_tokenize(sent) for sent in sentences]\n",
    "\n",
    "# Count the word frequencies\n",
    "word_freq = nltk.FreqDist(itertools.chain(*tokenized_sentences))\n",
    "print(\"%d 단어를 찾았습니다..\" % len(word_freq.items()))"
   ]
  },
  {
   "cell_type": "code",
   "execution_count": 43,
   "metadata": {
    "scrolled": true
   },
   "outputs": [
    {
     "name": "stdout",
     "output_type": "stream",
     "text": [
      "['SENTENCE_START', 'SENTENCE_END', '.', 'the', ',', 'to', 'a', 'and', 'i', 'of', 'it', 'that', 'you', 'is', 'in', \"'s\", \"n't\", 'for', '?', 'was', 'this', 'they', 'on', 'not', 'are', 'he', 'do', 'be', 'have', 'but', 'with', ':', \"''\", 'if', ')', 'as', '(', 'like', '``', 'my', 'just', 'so', 'or', 'at', 'your', 'people', '!', 'what', 'about', 'all', 'would', ';', ']', '[', 'we', 'there', 'me', 'an', 'can', '...', 'from', 'out', 'no', 'one', 'up', 'get', 'when', '&', 'his', 'more', 'their', 'because', \"'re\", \"'m\", 'who', 'how', 'them', 'think', 'will', 'by', 'she', 'did', 'has', 'gt', 'some', 'were', 'had', 'him', 'really', 'time', 'then', 'does', 'than', 'http', 'even', 'her', 'know', 'could', 'other', 'only', 'being', 'should', 'deleted', 'good', 'make', 'now', 'been', 'why', 'way', 'also', 'much', 'want', 'see', '-', 'which', 'right', \"'ve\", 'still', 'go', '*', 'any', 'going', 'most', 'here', 'too', 'well', 'say', 'got', 'something', 'never', 'off', 'over', 'into', 'shit', 'actually', 'ca', 'thing', 'very', 'those', 'back', 'where', \"'d\", 'its', 'these', 'first', 'years', 'same', 'someone', 'after', 'pretty', 'need', 'said', 'every', \"'ll\", 'sure', '%', 'better', 'before', 'things', 'us', 'fuck', 'game', 'fucking', 'lot', 'work', 'take', 'down', 'guy', 'while', \"'\", 'made', 'man', 'our', 'point', 'probably', 'though', 'many', 'bad', 'look', 'feel', 'ever', 'around', 'life', 'year', 'anything', 'https', 'always', 'day', 'money', 'new', 'doing', 'great', 'two', 'world', 'let', 'everyone', 'own', 'edit', 'maybe', 'use', 'love', 'without', 'little', 'am', 'mean', 'best', 'few', 'through', 'person', 'since', 'having', 'getting', '--', 'real', 'yes', 'yeah', 'thought', 'nothing', 'last', 'part', 'give', 'enough', 'long', 'makes', 'put', 'trying', 'saying', 'old', 'find', 'again', 'come', 'used', 'both', 'different', '2', 'away', 'wrong', 'another', '$', 'might', 'end', 'anyone', 'next', 'less', 'hard', 'show', 'stop', 'reason', 'may', 'against', 'guys', 'oh', 'tell', 'amp', 'big', 'kind', 'problem', 'else', 'help', 'reddit', 'done', 'least', 'once', 'went', 'fact', 'keep', 'already', 'until', 'looks', 'seen', 'job', 'read', 'believe', 'try', 'top', 'place', 'bit', 'such', '3', 'kids', 'team', 'high', 'free', 'everything', 'home', 'making', 'times', 'understand', 'live', 'country', '1', 'post', 'video', 'whole', 'movie', 'op', 'play', 'far', 'each', 'school', 'women', 'car', 'gets', 'stuff', 'start', 'family', 'etc', 'pay', 'stupid', 'idea', 'god', 'friends', 'hate', 'almost', 'case', 'watch', 'talking', 'care', 'change', 'seems', 'call', 'true', 'between', 'nice', 'either', '#', 'means', 'able', 'yet', 'sex', 'state', 'exactly', 'kid', 'games', 'called', 'story', 'instead', 'left', '10', 'must', 'police', 'white', 'girl', 'name', 'using', 'looking', 'house', 'told', 'season', 'came', 'run', 'hope', 'comment', 'ago', 'please', 'sounds', 'na', 'government', 'friend', 'under', 'guess', 'head', '5', 'mind', 'full', 'wo', 'men', 'wanted', 'talk', 'child', '4', 'during', 'completely', 'power', 'happened', 'remember', 'yourself', 'damn', '//www.youtube.com/watch', 'took', 'started', 'move', 'found', 'rather', 'lol', 'seem', 'dog', 'fight', 'basically', 'taking', 'agree', 'course', 'half', 'system', 'single', 'fun', 'literally', 'days', 'dude', 'hell', 'players', 'knew', 'ask', 'seriously', 'often', 'sense', 'thanks', 'line', 'face', 'goes', 'black', 'myself', 'worth', 'human', 'says', 'works', 'war', 'leave', 'joke', 'others', 'saw', 'together', 'needs', 'kill', 'quite', '**', 'week', 'usually', 'deal', 'months', 'entire', 'definitely', 'example', 'worse', 'thinking', 'situation', 'issue', '’', 'parents', 'comes', 'working', 'side', 'sorry', 'absolutely', 'especially', 'woman', 'second', 'public', 'class', 'wants', 'rest', 'body', 'themselves', 'wait', 'fine', 'sometimes', 'cool', 'matter', 'win', 'thread', 'source', 'likely', 'happen', 'important', 'night', 'history', 'american', 'children', 'vote', 'easy', 'happy', 'food', 'hit', 'business', 'wife', 'however', 'funny', 'later', 'gon', 'possible', 'death', 'support', 'buy', 'based', 'phone', 'allowed', 'poor', 'internet', 'set', 'huge', 'article', 'stay', 'past', 'playing', 'question', 'whatever', 'experience', 'issues', 'tried', 'interesting', 'chance', 'worst', 'honestly', 'comments', 'obviously', 'gay', 'ass', 'city', 'played', 'hand', 'water', 'law', 'sort', 'young', 'knows', 'actual', 'anyway', 'coming', 'level', 'number', 'unless', 'cause', 'opinion', 'fat', 'wow', 'ones', 'due', 'act', 'character', 'given', 'amount', 'open', 'couple', 'minutes', 'turn', 'bullshit', 'heard', 'word', 'large', 'original', 'group', 'normal', 'order', 'dead', 'front', 'watching', 'gun', 'sound', 'today', 'small', 'middle', 'lost', 'except', 'felt', 'himself', 'running', 'player', 'become', 'information', 'similar', 'control', 'type', 'super', 'points', 'news', 'words', 'low', 'dad', 'dont', 'killed', 'imagine', 'mom', 'room', 'hear', 'die', '100', 'giving', 'difference', 'age', 'clearly', 'realize', 'walk', 'picture', 'girls', 'behind', 'fans', 'de', 'hey', 'million', 'seeing', 'three', 'serious', 'rights', 'party', 'simply', 'hours', 'asked', 'amazing', 'drive', 'fan', 'action', 'weird', 'close', 'hot', 'looked', 'general', 'door', 'cops', 'sub', 'relationship', 'thank', 'early', 'along', 'eat', 'tv', 'shows', 'worked', 'america', 'book', 'force', '20', 'straight', 'terrible', 'mother', 'living', 'learn', 'society', 'takes', 'nobody', 'cut', 'argument', 'title', 'sad', 'cost', 'outside', 'shitty', 'clear', 'answer', 'light', 'enjoy', 'league', 'gave', '6', 'company', 'per', 'bring', 'area', 'media', 'social', 'male', 'above', 'countries', 'apparently', 'fair', 'supposed', 'movies', 'crazy', 'happens', 'bunch', 'common', 'needed', 'google', 'future', 'shot', 'dick', 'turned', 'gone', 'cat', 'okay', 'build', 'alone', 'totally', 'break', 'perfect', 'reasons', 'road', 'expect', 'anymore', 'doubt', 'longer', 'female', '8', 'explain', 'mostly', 'whether', 'reading', 'ok', 'step', 'main', 'kinda', 'average', 'pick', 'problems', 'club', 'market', 'spend', 'consider', 'court', 'racist', 'meant', 'rape', 'paid', 'attack', 'holy', 'version', 'music', 'known', 'check', 'add', 'community', 'taken', 'episode', 'characters', 'series', 'lives', 'data', 'soon', 'feels', 'quality', 'short', 'otherwise', 'goal', 'higher', 's', 'heart', 'dumb', 'english', 'online', 'wish', 'favorite', 'month', 'within', 'telling', 'im', 'assume', 'certainly', 'form', 'itself', 'scene', 'killing', 'immediately', 'states', 'attention', 'moment', 'asking', '1.', 'tax', 'awesome', 'twice', 'father', 'certain', 'finally', 'hold', 'simple', 'self', 'hour', 'feeling', 'football', 'illegal', 'rules', 'film', 'late', 'crime', 'towards', 'correct', 'numbers', 'college', '50', 'price', 'teams', 'fast', 'respect', 'mention', 'speed', 'near', '15', '..', 'quickly', 'space', 'cars', 'uk', 'kept', 'forget', 'jobs', 'air', 'red', 'ground', 'value', 'account', '30', 'decided', 'weight', 'watched', 'race', 'son', 'religion', 'hurt', 'blame', 'record', 'rule', 'clean', 'evidence', 'la', 'massive', 'thats', 'legal', 'baby', 'effect', 'personally', 'died', 'culture', 'israel', 'jesus', 'changed', 'save', 'position', 'stand', 'married', 'decent', 'expected', 'lose', 'hands', 'follow', 'majority', 'changes', 'lack', 'contact', 'brother', 'plus', 'service', 'private', 'bought', 'street', 'ship', 'term', 'complete', 'surprised', 'land', 'sign', 'including', 'fucked', 'weeks', 'perhaps', 'further', 'china', 'note', 'link', 'health', 'gives', 'wonder', 'plan', 'president', 'major', 'posted', 'broken', 'office', 'considered', 'places', 'personal', 'religious', 'write', 'available', 'europe', 'current', 'song', 'sick', 'obvious', 'knowing', 'town', 'extremely', 'sell', 'page', 'fall', 'shoot', 'ended', 'random', 'calling', '7', 'truth', 'ridiculous', 'size', 'final', 'united', 'opposite', 'store', 'lower', 'doctor', 'fear', 'south', 'eventually', 'send', 'match', 'none', 'claim', 'involved', 'population', 'throw', 'stories', 'honest', 'won', 'several', 'piece', 'security', 'paying', 'x', 'freedom', '12', 'damage', 'response', 'across', 'cup', '=', 'lots', 'event', 'rate', 'asshole', 'generally', 'somewhere', 'local', 'fault', 'marriage', 'process', 'code', 'relevant', 'ball', 'exist', 'gold', 'er', 'writing', 'five', 'third', 'subreddit', 'fire', 'reality', 'dogs', 'ready', 'spent', 'compared', 'figure', 'glad', 'fake', 'zero', 'met', 'increase', 'share', 'upset', 'continue', 'test', 'political', 'decision', 'easily', 'context', 'advice', 'nearly', 'energy', 'drink', 'voice', 'trust', 'education', 'strong', 'upon', 'drunk', 'effort', 'card', 'currently', 'image', 'result', 'interested', 'considering', '”', 'walking', 'seconds', 'view', 'policy', 'parts', '“', 'military', 'companies', 'beat', 'eating', 'risk', 'pull', 'field', 'although', 'putting', 'laws', 'willing', 'turns', 'content', 'nor', 'park', 'report', 'brought', 'church', 'idiot', '/s', 'cop', 'excuse', 'easier', 'period', 'extra', 'blue', 'bigger', 'pc', 'vs', 'pass', 'exact', 'taxes', 'building', 'special', 'national', 'fighting', 'somehow', 'sent', 'inside', 'sister', 'members', 'language', 'specific', 'actions', 'liked', 'cheap', 'sexual', 'charge', 'movement', 'fix', 'angry', 'allow', 'guns', 'driver', 'anywhere', 'rich', 'gotten', 'starts', 'count', 'art', 'stick', 'india', 'aware', 'sucks', 'healthy', 'moving', 'thinks', 'dark', 'mad', 'choice', 'calls', 'missing', 'train', 'cold', 'despite', 'west', 'mental', 'north', '40', 'drugs', 'pictures', 'drop', 'fit', 'natural', 'sit', 'avoid', 'questions', 'daughter', 'blood', 'star', 'students', 'shut', 'speak', 'career', 'difficult', 'caused', 'notice', 'discussion', 'oil', 'showing', 'written', 'listen', 'holding', 'particular', 'shame', 'christian', 'patil', 'lead', 'created', 'recent', 'thus', 'focus', 'create', 'training', 'interest', 'bitch', 'directly', 'beautiful', 'constantly', 'according', 'caught', 'awful', 'worry', 'regardless', 'luck', 'earth', 'drinking', 'sweet', 'popular', 'recently', 'prefer', 'specifically', 'understanding', 'workers', 'born', 'degree', 'bet', 'entirely', 'harder', 'officer', 'coffee', 'sitting', 'wall', 'taught', 'ta', 'hopefully', 'bill', 'brain', 'behavior', 'ai', 'girlfriend', 'seemed', 'minute', 'insane', 'terms', 'crap', 'disagree', 'student', 'smart', 'machine', 'happening', 'property', 'multiple', 'plenty', 'choose', 'ahead', 'quick', 'removed', 'statement', 'evil', 'research', 'videos', 'perfectly', 'list', 'posts', 'gym', 'forever', 'election', 'positive', 'politics', 'husband', 'wear', 'stuck', 'unfortunately', 'push', 'driving', 'computer', 'return', 'haha', 'total', 'downvoted', 'lie', 'potential', 'stage', 'dangerous', 'onto', 'failed', 'afford', 't', 'conversation', 'voting', 'costs', 'medical', 'science', 'youtube', 'individual', 'design', 'laugh', 'lines', 'access', 'planet', 'feelings', 'study', 'green', 'voted', 'below', 'miss', 'essentially', 'previous', 'helped', 'hair', 'beer', 'incredibly', 'wage', 'sleep', 'secret', 'related', '/', 'benefits', 'jail', 'minimum', 'missed', 'forced', 'four', 'wrote', 'ways', 'adult', 'loved', 'beyond', 'mentioned', 'economy', 'realized', 'russia', 'morning', 'mine', 'product', 'animals', 'officers', 'banned', 'ya', 'development', 'equal', 'gas', 'racism', 'labour', 'grow', 'suck', 'biggest', 'usa', 'kick', 'treat', 'slightly', 'base', 'eu', 'basic', 'regular', 'feet', 'standing', 'solution', 'stopped', 'hilarious', 'spending', 'facebook', 'murder', 'hospital', 'admit', 'waste', 'boys', 'forward', 'decide', 'offer', 'possibly', 'income', 'credit', 'date', 'books', 'leg', 'losing', 'named', 'starting', 'bottom', 'lucky', 'held', 'messi', 'standard', 'king', 'tells', 'eyes', 'violence', 'confused', 'expensive', 'non', 'afraid', 'indian', 'groups', 'wtf', 'protect', 'fantastic', 'barely', 'leaving', 'style', 'older', 'heavy', 'acting', 'deep', 'project', 'window', 'lived', 'ends', 'added', 'speech', 'double', 'mouth', 'liberal', 'paul', 'bike', 'americans', 'yep', 'industry', 'overall', 'slow', 'anime', 'nature', 'prove', 'smash', 'complain', 'downvotes', 'ten', 'theory', 'ah', 'western', 'teach', 'safe', 'sport', '2.', 'drug', 'downvote', 'ja', 'bible', 'neither', 'bro', 'wearing', 'teacher', 'boring', 'selling', 'touch', 'karma', 'posting', 'ability', 'results', 'goals', 'schools', 'disgusting', 'international', 'benefit', 'parties', 'reasonable', 'accept', 'que', 'release', 'lady', 'users', 'figured', '^', 'everybody', 'became', 'union', 'false', 'east', 'fairly', 'prison', 'highly', 'cares', 'policies', 'wins', 'cant', 'pregnant', '`', 'somebody', 'retarded', 'john', 'center', 'besides', 'fully', 'demand', 'annoying', 'spot', 'wanting', 'civil', 'screen', 'pulled', 'texas', 'names', 'tiny', 'six', 'press', 'site', 'thousands', 'plane', 'facts', 'station', 'waiting', 'eye', 'breaking', 'round', 'truly', 'magic', 'comfortable', 'ran', '@', 'bed', 'released', 'ban', 'successful', 'dollars', 'wan', 'rare', 'cute', '90', 'fifa', 'following', 'buying', 'ton', '+', 'foreign', 'defense', 'weekend', 'jews', 'university', 'mayweather', 'necessary', 'boy', 'deserve', 'pop', 'campaign', 'criminal', 'impossible', 'germany', 'significant', 'former', 'band', 'tend', 'mr.', 'victim', 'cases', 'welcome', 'mass', 'grew', 'everywhere', 'ride', 'weapons', 'present', 'keeping', 'agreed', 'draw', 'justice', 'sake', 'tired', 'showed', 'photo', 'tries', 'handle', 'search', 'track', 'drivers', 'cards', 'attempt', 'y', 'sugar', 'trouble', 'millions', 'england', 'animal', 'built', 'porn', 'correctly', 'intelligence', 'properly', 'daily', 'smaller', 'flying', 'citizens', 'negative', 'mistake', 'fired', 'broke', 'technology', 'christ', 'boyfriend', 'rock', 'effective', 'legs', 'folks', 'practice', 'performance', 'stock', 'generation', 'trade', 'suddenly', 'meet', 'cry', 'limit', 'corner', 'noticed', 'pressure', 'penis', 'prevent', 'summer', 'b', 'madrid', 'films', 'necessarily', 'proper', 'imo', 'boss', 'earlier', 'steal', 'join', 'reach', 'safety', 'til', 'expecting', 'camera', 'argue', 'board', 'crying', 'french', 'billion', 'p', 'guilty', 'provide', 'jokes', 'impact', 'professional', 'surely', 'letting', 'closer', 'votes', 'comparison', '2nd', 'debate', 'indeed', 'accident', 'crimes', '0', 'eh', 'logic', 'un', 'conditions', 'debt', 'gender', 'model', 'ideas', 'speaking', 'required', 'powerful', 'accurate', 'pizza', 'german', 'didnt', 'nope', 'chicken', 'particularly', 'canada', 'purpose', 'proof', 'events', 'strength', 'financial', 'skin', 'mods', 'cover', 'reaction', 'user', 'humans', 'sentence', 'hole', 'learned', 'thrown', '3rd', 'helping', 'max', 'manager', 'pissed', 'hated', 'ending', 'u', 'cash', 'judge', 'android', 'aside', 'hits', 'areas', 'attitude', '13', 'emotional', 'topic', 'moved', 'option', 'finding', 'fail', 'circlejerk', '25', 'bus', 'chinese', 'confirm', 'cutting', 'lift', 'wedding', 'forgot', 'fill', 'mess', 'obama', 'skill', 'material', 'discuss', 'photos', 'u.s.', 'situations', 'apple', 'ex', 'labor', 'cities', 'da', 'cast', 'views', 'throwing', 'paper', 'suggest', 'moon', 'options', 'advantage', 'piss', 'o', 'physical', 'det', 'beginning', 'battle', 'congress', 'decisions', 'believed', 'carry', 'program', 'fell', 'en', 'covered', 'australia', 'baseball', 'al', 'member', 'pain', 'flat', 'finished', 'idiots', 'lying', 'bar', 'nah', 'absolute', '9', 'reference', 'loss', 'quote', 'cancer', 'lazy', 'california', 'lets', 'british', 'concept', 'miles', 'circumcision', 'attractive', 'becomes', 'statistics', 'japanese', 'tournament', 'hearing', 'passed', 'dirty', 'strange', 'catch', 'attacks', 'walked', 'resources', 'tech', 'horrible', 'raise', 'surprise', 'modern', 'begin', 'alive', 'interview', 'balls', '\\\\', 'humor', 'fights', 'official', 'definition', 'nowhere', 'apartment', 'wind', 'fund', 'foot', 'opportunity', 'opinions', 'dating', 'effects', 'politicians', 'sees', 'highest', 'ugly', 'therefore', 'parent', 'economic', 'throughout', 'dying', 'lt', 'legitimate', 'mark', 'families', 'score', 'role', 'federal', 'wars', 'incredible', 'trip', 'text', 'basis', 'elected', 'conflict', 'scenes', 'interests', 'ha', 'dealing', 'wondering', 'pants', 'talked', 'yours', 'chose', 'shown', 'responsible', 'fellow', 'arsenal', 'hoping', 'innocent', 'claiming', 'islam', 'info', 'ignore', 'surgery', '11', 'circle', 'exists', 'sports', 'alcohol', 'arm', 'products', 'target', 'perspective', 'remove', 'contract', 'useful', 'cia', 'clothes', 'standards', 'nation', 'accused', 'whenever', '16', 'allows', 'pm', 'knife', 'key', 'pretend', 'raised', 'ice', 'dan', 'method', 'apart', 'charges', 'block', 'levels', 'complex', 'trash', 'jump', 'technically', 'assault', 'managed', 'avengers', 'cultural', 'forces', 'traffic', 'muslims', 'abuse', 'include', 'appropriate', 'windows', 'keeps', 'saved', 'snp', 'c', 'compare', 'crash', 'split', 'network', 'awkward', 'gif', 'charged', 'filled', 'concerned', 'taste', 'flag', 'restaurant', '18', 'background', 'feminist', 'steam', 'knowledge', 'faster', 'threat', 'limited', 'truck', 'minority', 'violent', 'meat', 'liverpool', 'babies', 'claims', 'armed', 'load', 'depends', 'active', 'acts', 'atheist', 'wing', 'among', 'edge', 'sold', 'moves', 'designed', 'recommend', 'curious', 'japan', 'box', 'likes', 'yup', 'color', 'fighters', 'unlike', 'improve', 'gain', 'helps', 'twitter', 'bottle', '͡°', 'prices', 'arrested', 'table', 'universe', 'dream', 'slowly', 'disappointed', 'wont', 'scale', 'assuming', 'raped', 'e', 'produce', 'appreciate', 'boxing', 'strike', 'winning', 'fly', 'france', 'metal', 'greater', 'somewhat', 'shots', 'frame', 'flight', 'murdered', 'picked', 'whose', 'various', 'sides', 'explained', 'fixed', 'grade', '200', 'genuinely', 'followed', 'department', 'silly', 'christians', 'bowl', 'weapon', 'developers', 'floor', 'subject', 'jerk', 'burn', 'appear', 'crowd', 'factors', 'require', '60', 'led', 'justify', 'message', 'calm', 'cunt', 'examples', 'conservative', 'counter', 'repeat', 'housing', 'weak', 'lord', 'math', 'anyways', 'si', 'percentage', 'finish', 'scared', 'cheese', 'laughing', 'values', 'guard', 'birth', 'cats', 'muscle', 'puts', 'famous', 'army', 'audience', 'app', 'normally', 'qatar', 'ndp', 'learning', 'steel', 'rude', 'profit', 'range', 'travel', '70', 'bang', 'claimed', 'changing', 'constitution', 'confidence', 'smell', 'hang', 'goddamn', 'huh', 'shoes', 'escape', 'services', 'marketing', 'hide', 'careful', 'isis', 'ignorant', 'iirc', 'investment', 'shop', 'kinds', 'tories', 'develop', 'assholes', 'pool', 'significantly', 'central', 'm', 'hardly', 'phase', 'global', 'fuel', 'uses', 'bother', 'physically', 'nonsense', 'extreme', 'systems', 'scary', 'owner', 'shape', 'plays', 'muslim', 'bias', 'quit', 'replace', 'engine', 'opening', 'scored', 'solid', 'sat', 'offered', 'shooting', 'apply', 'unique', 'growing', 'units', 'loses', 'comfort', 'zone', 'peace', 'sea', 'burning', 'belief', 'roll', 'distance', 'weed', 'pitch', 'hockey', 'thoughts', 'larger', 'diet', 'individuals', 'beating', 'relationships', 'climate', 'studies', 'rid', 'di', 'skills', 'excited', 'yea', 'pure', 'excellent', 'irrelevant', 'ok.', 'adding', 'wild', 'se', 'items', 'bush', 'buddy', 'meaning', 'd', 'mate', 'smoking', 'giant', '3.', 'direction', 'customer', 'lock', 'defend', 'details', 'hundreds', 'amounts', 'dance', 'alternative', 'conservatives', 'function', 'letter', 'kills', '24', 'european', 'existence', 'treated', 'progress', 'deserves', 'equivalent', 'tl', 'proven', 'russian', 'r', '80', 'defined', 'additional', 'younger', 'beliefs', 'falling', 'protection', 'ticket', 'tons', 'programs', 'insurance', 'century', 'sources', 'balance', 'ignored', 'empathy', 'picking', 'reduce', 'dr', 'closed', 'opened', '500', 'plate', 'aggressive', 'computers', 'criminals', 'immigration', 'hanging', 'bag', '9/11', 'grip', 'danger', 'ronaldo', 'separate', 'seat', 'hitler', 'suppose', 'organization', 'island', 'punch', 'der', 'drawing', 'types', 'arguments', 'destroyed', 'joe', 'fighter', 'worried', 'og', 'blew', 'bringing', 'equipment', 'empty', '17', 'identity', 'competition', 'bell', 'runs', 'corporate', 'loud', 'uh', 'guessing', 'success', 'turning', 'passing', 'horse', 'signs', 'smoke', 'owners', 'rates', 'stood', 'pace', 'ii', 'suspect', 'eggs', 'winter', 'cell', 'settings', 'core', 'dropped', 'switch', 'guarantee', 'victims', 'harm', 'bot', 'planning', 'potentially', 'usual', 'enjoyed', 'sun', 'experienced', '•', 'linked', 'received', 'greatest', 'signed', 'parking', 'harsh', 'believes', 'ireland', 'fox', 'button', 'liberals', 'k', 'bomb', 'seasons', 'increasing', 'shared', 'yesterday', 'propaganda', 'pointed', 'dare', 'useless', 'corporations', 'stronger', 'path', 'leading', 'billions', 'adults', 'dress', 'becoming', 'faction', 'route', 'nintendo', 'co2', 'intelligent', 'television', 'failure', 'vegan', 'ftfy', 'delivery', 'causing', 'authority', 'classic', 'license', 'supporting', 'reminds', 'decade', '2015', 'cross', 'pokemon', 'explanation', 'bank', 'proud', 'cheat', 'hachiman', 'alright', 'convinced', 'attacked', 'footage', 'therapy', 'tough', 'doctors', 'tomorrow', 'suicide', 'asian', 'software', 'mentally', 'warm', 'matches', 'captain', 'domestic', 'comic', 'busy', 'sales', 'favor', 'coach', 'memory', 'pet', 'fuckin', 'wet', 'pack', 'originally', 'email', 'budget', 'hired', 'concern', 'garbage', 'stands', 'artist', 'chelsea', 'express', 'direct', 'refuse', 'classes', 'requires', 'doesnt', 'arrest', 'capital', 'valid', 'owns', 'portion', '–', 'reviews', 'depression', 'review', 'explaining', 'teaching', 'collapse', 'rounds', 'pathetic', 'tank', 'differences', 'familiar', 'supported', 'unions', 'skip', 'net', 'hype', 'respond', 'strategy', 'plot', 'username', 'le', 'gap', 'divorce', 'sanders', 'korea', 'hidden', 'italian', 'pays', 'spoiler', 'badly', 'partner', 'included', 'faith', 'capable', 'glass', 'bread', 'hello', 'pushed', 'invented', 'opponent', 'spread', 'described', 'manage', 'struggle', 'horror', 'soldiers', '80s', 'accounts', 'supports', 'vision', 'grammar', 'alex', 'exception', 'wealth', 'walls', 'latest', 'cook', 'ive', 'i.e', 'afterwards', 'btw', 'laptop', 'incident', 'immigrants', 'sleeping', 'offense', 'consequences', 'understood', 'et', 'kicked', 'finds', 'charity', 'actively', 'el', 'trigger', 'depth', 'shield', 'ron', 'grand', 'smile', 'behaviour', 'mike', 'elsewhere', 'typical', 'yo', 'meeting', 'channel', 'album', 'website', 'choices', 'bathroom', 'relatively', 'pieces', 'nuclear', 'prime', 'removing', 'blow', 'troll', 'shower', 'activity', 'melee', 'senator', 'barcelona', 'sets', 'africa', 'rational', 'creepy', 'complaining', 'display', 'settle', 'herself', 'judging', 'mail', 'records', 'republican', 'christianity', 'ships', 'pulling', 'yard', 'vacation', '22', 'contest', 'bear', 'hotel', 'dinner', '1000', 'uncomfortable', 'realistic', 'appears', 'hitting', 'screw', 'brand', 'primary', 'clinton', 'growth', 'sensitive', 'gains', 'xbox', 'soul', 'clever', 'suffer', 'rip', 'ufc', 'employee', 'civilians', 'carried', 'blacks', 'status', 'orange', 'dollar', 'downvoting', 'defensive', 'seek', 'uncle', 'and/or', 'via', 'talent', 'listening', 'file', 'vehicle', 'tier', 'trailer', 'accepted', 'phones', 'era', 'harassment', 'heads', 'developed', 'rise', 'constant', 'pot', 'netflix', 'tight', 'tree', 'articles', 'request', 'chest', 'hill', 'answers', 'locked', 'experiences', 'associated', 'desire', 'loads', 'grab', 'solve', 'tonight', 'production', 'models', 'nsa', 'controlled', 'clubs', 'crisis', 'pro', 'kristina', 'deserved', 'enemy', 'convince', '*the', 'michael', 'scientific', 'revenue', 'influence', 'consistent', 'wake', 'equally', 'dudes', 'elite', 'dank', 'granted', 'tag', 'setting', 'update', 'agent', 'arms', 'dc', 'unfair', 'condition', 'tears', 'scenario', 'kidding', 'customers', 'baltimore', '10/10', 'pacquiao', 'logical', 'management', 'moments', 'ignoring', 'lies', 'whilst', 'hire', 'internal', 'pushing', 'sharing', 'seats', 'odd', 'listed', 'equality', 'terrorism', 'actor', 'detail', 'everyday', 'dear', 'wages', 'houses', 'activities', 'e.g', 'environment', 'amd', 'carrying', 'reported', 'opposed', 'harry', 'operation', 'stance', 'teachers', 'rent', 'radio', 'reply', 'aspect', 'sam', 'differently', 'democracy', 'david', 'iran', 'lmao', 'infrastructure', 'legally', 'threatening', 'whore', 'realise', 'breakfast', 'copy', 'edited', 'mod', 'master', 'blind', 'replaced', 'vagina', 'attacking', 'genius', 'destroy', 'ed', 'privilege', 'myth', 'candidate', 'saving', 'gaming', 'refused', 'rush', 'youth', 'jewish', 'factor', 'dat', 'section', 'seven', 'decades', 'address', 'bayern', 'tho', 'figures', 'screaming', 'israeli', 'discovered', 'lawyer', 'dry', 'till', 'ill', 'profile', 'describe', 'laughed', 'jury', 'conclusion', 'chris', 'lied', 'scotland', 'mistakes', 'author', 'painful', 'rely', 'defending', 'practically', 'forum', 'feed', 'plastic', 'motherfucker', 'heck', 'row', 'ad', 'bernie', 'omg', 'anger', 'injury', 'intentionally', 'shirt', 'n', 'default', 'talks', 'leads', 'dressed', 'marvel', 'personality', '29', 'division', 'cultures', 'mob', 'lifting', '911', 'manner', 'treating', 'homes', 'witcher', 'jones', 'ugh', 'neighbors', 'naked', 'penalty', 'hi', 'owned', 'bonus', 'confirmed', 'anytime', 'cents', 'forth', 'visit', 'whoever', '3d', 'suit', 'brown', 'fingers', 'episodes', 'host', 'initial', 'offensive', 'aspects', 'republicans', 'stops', 'sadly', 'asks', 'sudden', 'loves', 'methods', 'phrase', 'george', 'dies', 'hero', 'ukraine', 'racial', 'operate', 'doors', 'roles', 'birthday', 'favourite', 'adopted', 'tied', 'mode', 'helpful', 'nasty', 'progressive', 'graphics', 'whatsoever', 'brawl', 'punished', 'minor', 'cock', 'decides', 'intended', 'suggested', 'streets', 'meal', 'regard', 'scoring', 'thousand', 'sight', 'attorney', '23', 'stars', 'trick', 'investigation', 'sticks', 'homeless', 'florida', 'structure', 'signing', 'gear', 'ocean', 'ring', 'bite', 'hates', 'tits', 'responsibility', 'scottish', 'stated', 'exciting', 'arguing', 'floyd', 'humanity', 'paint', 'checked', 'harper', 'native', 'drama', 'magazine', 'sir', 'illness', 'intent', 'hatred', 'commit', 'genuine', 'expectations', 'barca', '2012', 'hat', 'procedure', 'banning', 'stealing', 'ties', 'nervous', 'hypertrophy', 'fitness', 'injuries', 'ultimately', 'wikipedia', '—', '2013', 'select', 'che', 'destruction', 'frequently', 'stores', 'marry', 'soviet', 'purchase', 'challenge', 'analysis', 'warrant', 'threads', 'rain', 'theme', 'mix', 'genre', 'nazis', 'absurd', 'conspiracy', 'weather', 'polanski', 'invest', 'loving', 'practices', 'lesson', 'delicious', 'releases', 'brady', '19', 'device', '99', 'batman', 'saudi', 'canadian', 'tragic', 'boat', 'threatened', 'wave', 'advanced', 'messed', 'pill', 'filibuster', 'connection', 'whom', 'receive', 'linux', 'critical', 'naturally', 'punishment', 'garden', 'gross', 'caps', 'shocked', 'gift', 'causes', 'powers', 'admitted', 'staff', 'vast', 'trial', 'riding', 'kiss', 'tbh', 'leaves', 'cheating', 'chances', 'encourage', 'hurts', 'jack', 'criticize', 'ruin', 'forcing', 'bullet', 'referring', 'sky', 'acceptable', 'swiss', 'weights', 'shadow', 'tory', 'offended', 'interact', 'occasionally', 'existing', 'storage', 'eric', 'mothers', 'iron', 'domain', 'confusing', 'chain', 'conference', 'irish', 'sending', 'begins', 'blown', 'terrorist', 'gop', 'attempting', 'feature', 'couples', 'desert', 'snake', 'immature', 'dammit', 'assets', 'unreasonable', 'recognize', 'flair', 'kitchen', 'tools', 'combat', 'representation', 'recovery', 'pretending', '//ascelibrary.org/doi/abs/10.1061/', 'fish', 'shock', 'bench', 'spanish', 'toilet', 'poverty', 'je', 'alliance', 'f', 'neat', 'sexually', 'smooth', 'handled', 'polite', 'rick', 'anti', 'meanwhile', 'transfer', 'employees', 'opposition', 'leader', 'pigs', 'possibility', 'superman', 'degrees', 'pump', 'winner', 'kicking', '4th', 'stole', 'finger', 'testing', 'duty', 'stroke', 'earn', 'nazi', 'pointing', 'prior', 'click', 'coverage', 'dirt', 'superior', 'serving', 'salt', 'collection', 'maintain', 'hating', 'stats', 'outcome', 'severe', 'lights', 'fucks', 'playoffs', 'adorable', 'trained', 'joking', 'funding', 'keyboard', 'bits', 'director', 'v', 'insult', 'secondary', 'soccer', 'approach', 'galaxy', 'pocket', 'cow', 'worthy', 'engineering', 'dragon', 'traditional', '2008', 'douche', 'laid', 'agreement', 'businesses', 'vs.', 'discussing', 'belong', 'gta', 'priority', 'versions', 'pas', 'communication', 'knock', 'injured', 'christmas', 'brings', 'frankly', 'passes', 'bubble', 'generate', 'id', 'deliver', 'iphone', 'appeal', 'breaks', 'nvidia', 'began', 'ruined', 'prosecuted', 'iraq', 'angle', 'command', 'motivation', '2014', 'congrats', 'disease', 'beast', 'wealthy', 'plain', 'brilliant', 'rage', 'cap', 'amendment', 'bitter', 'draft', 'poster', 'anxiety', 'nuts', 'upvote', 'dropping', 'pussy', 'provides', 'heavily', 'denied', 'slavery', '14', 'san', 'rob', 'attached', 'treatment', 'faces', 'description', 'memes', 'attendant', '***', 'monster', 'choosing', 'requirements', 'emotions', 'hence', 'una', 'sexuality', 'dedicated', 'bothered', 'f1', 'plans', 'subs', 'jim', 'tolerance', 'defence', 'affected', 'expense', 'possession', 'tony', 'yell', 'du', 'asses', 'os', 'legislation', 'brothers', 'chapter', '21', 'grown', 'headline', 'regret', 'basement', 'seismic', 'lunch', 'fed', 'ensure', 'upvotes', 'whereas', 'wipe', 'valuable', 'committed', 'beaten', 'applied', 'barrel', 'boom', 'buildings', 'construction', 'sa', 'fantasy', 'jeff', 'react', 'digital', 'impressed', 'comedy', 'slave', 'warning', 'sexist', 'creed', 'rarely', 'generic', 'palestinians', 'nasa', 'measures', 'crew', 'scores', 'surprising', 'bills', 'unlikely', 'cheaper', 'clue', 'error', 'britain', 'rocks', 'banks', 'finals', 'remain', 'stat', 'ashamed', 'concepts', 'impressive', 'eastern', 'rough', 'bat', 'hung', 'nicely', 'knee', 'developing', 'implies', 'relief', 'quiet', 'covers', 'strip', 'eve', 'misleading', 'bone', 'freaking', 'remote', 'communicate', 'communist', 'implement', 'stadium', 'promise', 'explains', 'af', 'fresh', 'serve', 'cared', 'abusive', 'tall', 'enormous', 'lately', 'ignorance', 'steve', 'vegetarian', 'landed', 'supply', 'obese', 'tournaments', 'whites', 'hardware', 'cl', 'flip', 'addiction', 'agency', 'recall', 'fiction', 'capitalism', 'marlins', 'yukino', 'habits', 'surrounding', 'vet', 'petty', 'wheel', 'argued', 'olds', 'anybody', 'helmet', 'moral', 'bloody', 'unnecessary', 'drawn', 'guilt', 'consume', 'wood', 'blamed', 'nick', 'march', 'package', 'includes', 'females', 'camp', 'capacity', 'hopes', 'theater', 'ads', 'compete', 'southern', 're', 'agenda', 'stone', 'lowest', 'comics', 'nose', 'ce', 'raid', 'blizzard', 'rand', 'sand', 'cure', 'measure', 'existed', 'boobs', 'shopping', 'bridge', 'rocket', 'drives', 'documentary', 'affect', 'screwed', 'atheists', 'generations', 'balanced', 'drone', 'welfare', 'deny', 'reads', 'holiday', 'stabbed', 'exercise', 'facing', 'exit', 'affects', 'ladies', 'sunday', 'rapist', 'sentences', 'concerns', 'politician', 'happiness', 'lane', 'annoyed', 'mixed', 'legitimately', 'democrats', 'automatically', 'cuts', 'fries', 'brains', 'magical', 'neck', 'skinny', 'flow', 'prepared', 'atm', 'milk', 'reduced', 'lawyers', 'yelling', 'throat', 'franchise', 'stayed', 'butt', 'restrictions', 'voters', 'justified', 'severely', 'staring', 'shotgun', 'survive', 'introduced', 'lightning', 'armor', 'tactics', \"y'all\", 'accuracy', 'organic', 'burden', 'los', 'redditors', 'wtc', 'hunter', 'ups', 'typically', '*is*', 'forgive', 'excuses', 'copyright', 'casual', 'pockets', 'depressed', 'tape', 'performing', 'alot', 'yuuta', 'hamas', 'matters', 'handed', 'insert', 'satisfying', 'extent', 'temperature', 'determine', 'largely', 'ancient', 'blade', 'sword', 'unit', 'fashion', 'ducks', 'implying', 'denial', 'publicly', 'exposed', 'tesla', 'frank', 'bodies', 'supporters', 'arbitrary', 'suffering', 'breath', 'highway', 'retired', '4.', 'patriot', 'wise', 'memories', 'touched', 'germans', 'beats', 'beach', 'witness', 'panic', 'managers', 'programming', 'recording', 'loose', 'blaming', 'spin', 'unable', '300', 'incorrect', 'guaranteed', 'kitten', 'marks', 'halo', 'grocery', 'map', 'fb', 'counts', 'roughly', '*that*', 'exchange', 'offers', 'tip', 'minus', 'urban', 'digging', 'elderly', 'repeatedly', '͜ʖ', 'anonymous', 'regarding', 'em', 'bars', 'torture', 'freely', 'revolution', 'holes', 'educated', 'pic', 'enter', 'dancing', 'ny', 'creating', 'instance', 'polls', 'mentioning', 'stating', 'resistance', 'dislike', 'championship', 'failing', 'dunno', 'dig', 'killer', 'med', 'fought', 'follows', 'il', 'childhood', 'positions', 'border', 'squat', 'tone', 'permission', 'russians', 'mum', 'coup', 'library', 'condoms', 'excessive', 'tap', 'scare', 'selfish', 'ford', 'crack', 'principle', 'apples', 'pr', 'bedroom', 'leaders', 'emotion', 'allowing', 'deeper', 'object', 'isnt', 'catholic', 'miserable', 'mma', 'feminism', 'hundred', 'ryan', 'ate', 'battery', 'meals', 'merely', 'stretch', 'flagship', 'corruption', 'tested', 'flash', 'replied', 'hunt', 'commenting', 'tower', 'valve', 'keys', 'cigarettes', 'pirate', 'enemies', 'unknown', 'distinct', 'hardcore', 'patients', '*not*', 'toronto', 'martin', 'teenagers', 'northern', 'maximum', '‘', 'reward', 'planes', 'justification', 'impression', 'ukip', 'download', 'snow', 'web', 'dicks', 'så', 'interpretation', 'meme', 'pleasure', 'inevitable', 'placed', 'sale', 'males', 'chrome', 'sweden', 'cuba', 'clarify', 'initially', 'rice', 'gills', 'attempted', 'butter', 'struggling', 'på', 'hypocritical', 'hes', 'protein', 'disturbing', 'publish', 'nsfw', 'lawn', 'socialist', 'tear', 'hunting', 'smarter', 'depending', 'liking', 'seeking', 'dutch', 'independent', 'regularly', 'miami', 'discussed', 'happier', 'gf', 'occurred', 'sexy', 'cartoon', 'lay', 'sons', 'tail', 'robots', 'abortion', 'indians', 'custody', 'bs', 'historical', 'fury', 'features', 'pair', 'badass', 'occupation', 'upvoted', 'spelling', 'devices', 'mountain', 'purely', 'professor', 'crease', 'providing', 'gays', 'wire', 'london', 'har', 'legit', 'skull', 'woke', 'mormon', 'par', 'secure', 'papers', 'lifestyle', 'instantly', 'wenger', 'donations', 'terrifying', 'peter', 'deaths', 'april', 'mission', '400', 'nights', 'stream', 'introduce', 'irony', 'chase', 'survived', 'swear', 'microsoft', 'mcdonalds', 'counseling', 'addition', 'commentary', 'egg', 'knocked', 'salman', 'hillary', 'roommate', 'hiv', 'weakness', 'hearts', 'pregnancy', 'item', 'jumped', 'chat', 'suits', 'harvard', 'australian', 'g', 'happily', 'don', 'moderate', 'simultaneously', 'shite', 'provided', 'resource', 'numerous', 'yelled', 'files', 'session', 'surface', 'ac', 'cake', 'pride', 'overcome', 'että', 'ruining', 'sinclair', 'farm', 'lighter', 'airport', 'terribly', 'ease', 'wifi', 'published', 'whats', 'divide', 'hood', 'cigarette', 'nu', 'diverse', 'mechanics', 'spring', 'nexus', 'homosexuality', 'translation', 'presented', 'languages', 'engineers', 'matt', 'curse', 'sooner', 'increases', 'assumption', 'mutilation', 'soundtrack', 'fourth', 'invited', 'filmed', 'titles', 'steps', 'circumstances', 'taxed', 'comparing', 'driven', 'mediocre', 'outta', 'represent', 'anal', 'ur', 'grid', 'client', 'reasoning', 'alberta', '**the', 'nations', 'ravindra', 'pointless', 'remains', 'connect', 'reverse', 'hurting', 'guitar', 'biased', 'cleaning', 'everytime', 'tool', 'mobile', 'genital', 'he/she', 'farming', 'reports', 'staying', 'jacket', 'drag', 'tom', 'medicine', 'executed', 'lsd', 'wine', 'cable', 'consumer', 'theft', '28asce', 'reaching', 'nail', 'cpu', 'upper', 'dialogue', 'taxi', 'weekends', 'membership', 'planned', 'teeth', 'embarrassing', 'creative', 'belt', 'pink', 'desperately', 'doc', 'loading', '2005', 'fundamental', 'backwards', 'permit', 'expects', 'lincoln', 'hygiene', 'complaints', 'chains', 'vin', 'served', 'york', 'combined', 'modules', 'odds', 'rolls', 'length', 'engaged', 'elections', 'juventus', '1st', 'wallet', 'electric', 'threaten', 'bikes', 'gameplay', 'cycle', 'uneducated', 'stations', 'enjoying', 'foods', 'conversations', 'bale', 'towers', '2007', 'patient', 'didn', 'physics', 'graduated', 'arrogant', 'artists', 'transportation', 'jersey', 'folk', 'qualified', 'sticking', 'technical', 'cum', 'river', 'masturbating', 'incapable', 'strict', 'jackson', 'sorts', 'raw', 'references', 'pat', 'rated', 'signal', 'rapists', 'tumblr', 'navy', 'supposedly', 'driveway', 'mile', 'aid', 'releasing', 'woah', 'angles', '45', 'parliament', 'moron', 'wheels', 'invite', 'colour', 'beings', 'lighting', 'variety', 'pose', 'creature', 'compromise', '90s', '28', 'stressful', 'elaborate', 'mentions', 'crashed', 'meth', 'intention', 'interactions', 'falls', 'checks', 'solved', 'pt', 'projects', 'applies', 'filming', 'parked', 'haters', 'palestinian', 'observation', 'sites', 'ceo', 'restaurants', 'villain', 'wide', 'drought', 'bruce', 'reveal', 'sample', 'expression', 'honey', 'immediate', 'lds', 'wooden', 'mid', 'gerrard', 'strangers', 'glorious', 'reform', 'tattoos', 'alpha', 'ps4', 'openly', 'servants', 'sympathy', 'lab', 'mutta', 'movements', 'utter', 'imagining', 'legend', 'retail', 'itt', 'drinks', 'layers', 'workplace', 'referendum', 'mainstream', 'cancelled', 'motion', 'wwii', '600', 'ie', 'criticism', 'tracks', 'accomplish', 'hollywood', 'paranoid', 'convicted', 'versus', 'machines', 'burger', 'spoke', 'gen', 'reliable', 'beauty', 'receiving', 'minds', 'risks', 'chair', 'server', 'continues', 'toy', 'funniest', 'grandma', 'afternoon', 'acceptance', 'democrat', 'primarily', 'retire', 'ikke', 'dire', 'amazon', 'pets', 'friendly', 'expressing', 'rural', 'council', 'fool', 'governments', 'honor', 'invasion', 'desk', 'socialism', 'healthcare', 'heal', 'occasions', 'infinite', '2000', 'fancy', 'combo', 'creatures', 'neighbor', 'repetitions', 'civilian', 'boundaries', 'formal', 'roof', 'rats', '5.', 'lo', 'behave', 'prince', 'regards', 'defenders', 'mirror', 'ho', 'premier', 'trend', '/r/soccer', 'principles', 'competitive', 'invested', 'port', 'explicitly', 'operating', 'ruled', 'makeup', 'dreams', 'identify', 'israelis', 'radical', 'hug', 'refer', 'proved', 'champions', 'wonderful', 'gdp', 'citizen', 'fruit', 'overhead', 'washed', 'camps', '34', 'economists', 'lovely', 'graph', 'shops', 'nearby', 'abused', 'nowadays', 'eight', 'ultron', 'drove', 'writes', 'mets', 'brake', 'syndrome', 'calories', 'poorly', 'reputation', 'region', 'colorado', 'sigh', 'pile', 'dramatic', 'grabbed', 'supporter', 'combination', 'james', 'heat', 'por', 'cruiser', 'finishing', 'slaves', 'entry', 'mall', 'corrupt', 'forgotten', 'fraud', 'spoilers', 'bf', 'unfortunate', 'tribe', 'bears', 'ios', 'races', 'garage', 'seattle', 'riots', 'developer', 'feminists', 'planets', 'focused', 'perform', 'surveillance', 'species', 'collective', 'picks', 'shaking', 'threw', 'troops', 'prick', 'netherlands', 'thor', 'exclusive', 'toast', 'scientists', 'shout', 'claws', 'reflection', 'voter', 'recorded', 'overwhelming', 'technique', 'mature', 'frames', 'controversial', 'dealership', 'michigan', 'clothing', 'answered', 'occur', 'teenager', 'wasting', 'sakurai', 'involving', '2.5', 'empire', 'blocked', 'deliberately', 'hiding', 'utterly', 'neighborhood', 'acted', 'golf', 'champion', 'inch', 'bugs', 'asleep', 'crush', 'daughters', 'repost', 'organized', 'bitching', 'healing', 'actors', 'consistently', 'locks', 'remotely', 'theres', 'shits', 'politically', 'engineer', 'slaughtered', 'accent', 'deres', 'sarcastic', 'shes', 'precisely', 'youre', 'embarrassed', 'wasnt', 'psychology', 'gem', 'encountered', '7th', 'parks', 'bc', 'platform', 'arrived', 'literal', 'wash', 'irrational', 'evolution', 'zombie', 'ww2', '5th', 'bothers', 'crystal', 'siblings', 'acknowledge', 'miller', 'damages', 'crosses', 'asians', 'timeline', 'spoiled', 'inaccurate', 'crushed', 'ourselves', 'economically', 'gray', 'meetings', 'passive', 'xd', 'grateful', 'sizes', 'raising', 'grandparents', 'boston', 'owe', 'soft', 'elementary', '2006', 'cried', 'strikes', 'rolling', 'valley', 'meh', 'officials', 'efficient', 'depend', 'funds', 'praise', 'dumbledore', 'heavier', 'carbs', 'vital', 'bans', 'collision', '_', 'define', 'observe', 'stocks', 'label', 'proceeded', 'tends', 'needing', 'heroic', 'storm', 'prepare', 'distribution', 'explosion', 'january', 'discussions', 'tuesday', 'nurse', 'packed', '95', 'links', 'servers', 'assumed', 'turbine', 'scum', 'script', 'ripped', 'roads', 'village', 'investing', 'van', 'om', 'dr.', 'essential', 'ideology', 'suspicious', 'historically', 'speeds', 'righteous', 'beta', 'aids', 'toxic', 'wasted', 'silver', 'glasses', 'achievement', 'egypt', 'buddies', 'stoned', 'holds', 'entitled', 'mechanical', 'posters', 'increased', 'rooting', 'curiosity', 'solely', 'interviews', 'fiber', 'household', 'appearance', 'managing', 'connected', 'hammer', 'tactical', 'clip', 'joint', 'dump', '*i', 'shift', 'pixel', 'firing', 'mining', 'sweat', 'solo', 'drops', 'robot', 'borders', 'labeled', 'detained', 'highlights', 'som', 'remake', 'confident', 'coal', 'complaint', 'ich', 'punk', 'biden', 'refers', 'needles', 'mainly', 'livestock', 'wondered', 'toward', 'ironic', 'salary', 'fraction', 'dense', 'shell', 'qb', 'grasp', 'silence', 'imgur', 'nine', 'improved', 'location', 'preventing', 'remind', 'directed', '2-3', 'plates', 'laughable', 'twist', 'cruel', 'victory', 'kevin', 'evening', 'viewers', 'roy', 'arc', 'democratic', 'sucking', 'cringe', 'attempts', 'traveling', 'extended', 'mmo', 'practical', 'apology', 'wouldnt', 'sponsors', 'firm', 'void', 'childish', 'altogether', 'scheme', 'factory', 'diversity', 'nightmare', 'narrative', 'tickets', 'shares', 'shave', 'compatible', 'catholics', 'presence', 'efforts', 'discrimination', 'sec', 'utc', 'campus', 'warnings', 'consumption', 'extension', 'realizing', 'dealt', 'launch', 'ages', 'produced', 'universal', 'khan', 'puppy', 'kingdom', 'cracking', 'wings', \"'the\", 'committing', 'aka', 'pa', 'chicago', 'congratulations', 'letters', 'suggesting', 'democratically', 'faced', 'promotion', 'limits', 'arafat', 'disrespectful', 'lake', 'warming', 'opens', 'custom', 'bots', 'virtually', 'breasts', 'felony', 'proving', 'bob', 'protest', 'gang', '**edit', 'scratch', 'signals', 'neymar', 'costume', 'root', 'accepting', 'thick', 'peak', 'pricing', 'capture', 'slide', 'adds', 'va', 'exceptions', 'burned', 'attract', 'achieve', 'resulting', 'delete', 'colors', 'ratio', 'grant', 'powder', 'accusations', 'deficit', 'reminded', 'endless', 'sued', 'speaks', 'newspaper', 'hungry', 'boost', 'maps', 'swim', 'socially', 'expand', 'stomach', 'pilot', 'friday', 'unemployed', 'worker', 'animated', 'preference', 'ms', 'puerto', 'medication', 'slab', 'ammo', 'challenges', 'ineffective', 'rack', 'entertainment', 'cows', 've', 'bees', 'brutal', 'gifs', 'boo', 'reached', 'laying', 'grounds', 'tame', 'ridiculously', 'territory', 'cord', 'temporarily', 'washing', 'utah', 'starving', 'walks', 'filter', 'tim', 'pics', 'recognition', 'ham', 'protesters', 'beard', 'mexican', 'bosses', 'trades', 'bail', 'torn', 'hunger', 'shortly', 'overweight', 'consent', 'wolf', 'drowned', 'document', 'condescending', 'understandable', 'blast', 'routes', '10,000', 'spiders', 'calculated', 'nevermind', 'allowance', 'afl', 'explode', 'ccp', 'sexism', 'targets', 'worrying', 'prequels', 'consideration', 'loser', 'listened', 'blades', 'aha', 'hmm', 'tripped', 'spell', 'attend', 'eliminate', 'dressing', 'shouting', 'squeeze', 'fridge', 'devs', 'mask', 'popularity', 'disaster', 'dragged', 'oli', 'mock', 'buff', 'peanut', 'december', 'electronic', 'fetish', 'typing', 'hail', 'idk', 'meaningless', 'beans', 'salty', 'feedback', 'heroin', 'radius', 'pissing', 'ou', 'involve', 'atleast', 'vehicles', 'readily', 'rolled', 'responding', 'realised', 'bonds', 'arab', 'jealous', 'm8', 'relative', 'stable', 'emergency', 'journal', 'jet', 'regulation', 'graves', 'bid', 'complained', 'bored', 'jumping', 'doo', 'countless', 'poke', 'bend', 'bum', 'gullible', 'awareness', 'editing', 'zimmerman', 'underrated', '2004', 'checking', 'circumcised', 'alternate', 'luckily', 'kickstarter', 'beef', 'mumbai', 'concrete', 'mclaren', 'taxing', 'flipped', 'hop', 'bud', '70s', 'gary', '2016', 'negotiate', 'onion', 'fbi', '27', 'fist', 'snowden', 'perception', '6.', '150', 'tests', 'fields', 'visual', 'nyc', '//youtu.be/evcnpfzlrzs', 'underneath', 'mount', 'etc.', 'fires', 'sjw', 'contractor', 'cream', 'mph', 'independence', 'probation', 'nhl', 'republic', 'apologizing', 'returning', 'bones', 'trolling', 'hayama', 'selection', 'lonely', 'chief', 'zoo', 'skilled', 'collect', 'compliment', 'currency', 'elements', 'fascinating', 'attitudes', 'jeg', 'pursue', 'slight', 'effectively', 'golden', 'cult', 'roman', 'silent', 'slip', 'terrified', 'twat', 'teenage', 'cunts', 'clicked', 'tinder', 'defender', 'sucked', 'randomly', 'buttons', 'dive', 'espn', 'ip', 'apologize', 'rep', 'athletes', 'spy', 'presumably', 'nhs', 'virus', 'cocaine', 'commercial', 'employer', 'prominent', 'swing', 'leather', 'rings', 'reaches', 'rs', 'unexpected', 'coast', 'fa', 'measured', 'donate', 'casting', 'dishes', 'fibers', 'separation', 'heaven', 'landlord', 'um', 'unhealthy', 'tearing', 'trophy', 'vibe', 'belly', 'orders', 'shoulder', 'plant', 'mistaken', 'worlds', 'toys', 'twins', 'suffered', 'brazil', 'overly', 'administration', 'credits', 'credibility', 'oddly', 'mentality', 'reflect', 'voluntary', 'uncommon', 'europa', 'mohammed', 'curriculum', 'credible', 'morons', 'daddy', 'dominant', 'potato', 'robbery', 'cheney', 'statements', 'duck', 'tribal', 'trips', 'estimated', 'clients', 'backing', 'slap', 'johnny', 'believing', 'lucas', 'gaza', 'expectancy', 'mps', 'studio', 'den', 'es', 'sanskrit', 'europeans', 'texts', 'contribute', 'loans', 'ours', 'toss', 'insecure', 'regulations', 'foolish', 'audio', 'waited', 'civic', 'bay', 'easiest', 'suspected', 'amazed', 'goods', 'ethnic', 'basketball', 'blatantly', 'filthy', 'replacing', 'convincing', 'pl', 'discipline', 'sits', 'periods', 'identical', 'indicate', 'giroud', 'demons', 'q', 'purchased', 'carries', 'lego', 'fortune', 'previously', 'helicopter', 'ot', 'practiced', 'rust', 'sperm', 'naive', 'referred', 'operator', 'prevents', 'meds', 'instinct', 'privacy', 'recruit', 'solar', 'chip', 'employers', 'cgi', 'hall', 'masses', 'frustrated', 'reporter', 'abroad', 'offering', 'ultimate', 'collecting', 'throws', 'beginners', 'ted', 'depressing', 'substance', '60s', 'supreme', 'delaware', 'punish', 'determined', 'cartoons', 'walmart', 'terrorists', 'uni', 'runner', 'pounds', 'convert', 'vets', 'uhh', 'doctrine', 'repeating', 'tribunal', 'maintaining', 'cooking', 'morgan', 'sufficient', 'handful', 'll', 'functions', 'cookie', 'witch', 'shooter', 'turkish', 'pit', 'negotiations', 'vocal', 'element', 'exposure', 'ear', 'arabs', 'payment', 'producer', 'contrary', 'producers', 'blank', 'lawsuit', 'spends', 'waves', 'sounding', '/r/anime', 'sentiment', 'requests', 'flew', 'yui', 'insecurity', 'sue', 'speculation', 'guide', 'heh', 'returned', 'affordable', 'korean', 'orgasm', 'rekt', '~', 'representatives', 'estate', 'avoiding', 'racing', 'insist', 'minorities', 'convenient', 'tagged', 'henry', 'cleared', '2009', 'hip', 'senate', 'earned', 'informed', 'arabic', 'rose', 'censorship', 'dem', 'switched', 'freak', 'leadership', 'cuz', 'purposes', 'norm', 'dh', 'patch', '2001', 'souls', 'agencies', 'lesser', 'celebration', 'bond', 'smith', 'saturday', 'transparent', 'atheism', 'lg', 'knives', 'hosts', 'rap', 'weekly', 'greens', 'someday', 'performed', 'ranges', 'judges', 'rockets', 'slept', 'veteran', 'extend', 'tpp', 'sacked', 'shallow', 'strategic', 'ti', 'automatic', 'curve', 'heading', 'charlie', 'worthless', 'assist', 'blackhawks', 'houston', 'bolt', 'turkey', 'asap', 'casino', 'brave', 'hawkeye', 'traditionally', 'journalists', 'spinel', 'coaches', 'retirement', 'professionals', 'successfully', 'rooms', 'rye', 'symptoms', 'slower', 'layer', 'bye', 'rotation', 'cardboard', 'remembered', 'civilization', 'quarter', 'shoots', 'nerd', 'uber', 'monsters', 'formula', '*really*', 'warped', 'shipping', 'techniques', '5000', 'eligible', 'recovered', 'dna', 'engagement', 'canon', 'mareep', 'ist', 'insanely', 'greek', 'smug', 'spatula', 'afghanistan', 'redundant', 'passion', 'bastard', 'artificial', 'immune', 'standpoint', 'ordered', 'aimed', 'jesse', 'admitting', 'ref', 'mutual', 'pos', 'begging', 'pac', 'flaws', 'puck', 'midfield', 'titan', 'desktop', 'emotionally', 'demanding', 'socks', 'caution', 'african', 'ranked', 'importantly', 'meets', 'grants', 'ohio', 'stephen', 'punches', 'instant', 'officially', 'demon', 'stored', 'babcock', 'worship', 'biological', 'como', 'preferred', 'pour', 'apparent', 'unacceptable', 'emulation', 'dictate', 'kissing', 'iii', 'hay', 'mocking', 'mere', 'croc', 'screams', 'apps', '2015-05-09', 'counting', 'scream', 'mild', 'interaction', 'juve', 'ruling', 'bucks', 'treaty', 'alonso', 'centre', 'objectively', 'blog', 'fate', 'mantle', 'suing', 'chosen', 'ben', 'divorced', 'awhile', 'differentiate', 'laundry', 'addicted', 'browsing', 'sincerely', 'breeders', 'savages', 'autism', 'horrifying', 'lasts', 'fails', '37', 'celebrate', 'bound', 'laser', 'sober', 'grandfather', 'implied', 'tweet', 'closing', 'destroying', 'bullying', 'persona', 'africans', 'melt', 'sequel', 'lawrence', 'retard', 'pepsi', 'bare', 'muhammad', 'liar', 'profitable', 'streaming', 'firstly', 'yards', '31', 'ffs', 'moderators', 'tub', 'crappy', 'ought', 'equals', 'stare', 'transport', 'dps', 'processes', 'assumptions', 'justin', 'broad', 'hulk', 'outrageous', 'violated', 'beneath', 'fundamentalist', 'jerry', 'reacting', 'commonly', 'unusual', 'locker', 'sacred', 'sells', 'invaded', 'meta', 'upside', 'swimming', 'eats', 'outright', 'fewer', 'importance', 'tablets', 'philosophy', 'captured', 'appealing', 'dozens', 'selfie', 'babe', 'girlfriends', 'zerossb**', 'washington', 'discount', 'shed', 'paste', 'cent', 'backpack', 'archer', 'habit', 'nbsp', 'pages', 'buried', 'bats', 'mary', '1990', 'bright', 'islands', 'cage', 'bacon', 'trap', 'parody', 'patrick', 'strictly', 'burnt', 'advance', 'barry', 'rescue', 'meaningful', 'tricks', 'bands', 'ram', 'exploded', 'inclined', 'pvp', 'ownership', 'pray', 'shoulders', 'notch', 'repetition', 'complicated', 'banana', 'lewis', 'consoles', 'workout', 'jew', 'atmosphere', 'assure', 'brush', 'favour', 'findings', 'owning', 'sink', 'joining', 'returns', 'established', 'secondly', 'convention', 'sensible', '19th', 'rhyme', 'installed', 'threats', 'religions', 'nepal', 'dealer', 'traded', 'stress', 'texture', 'deadly', 'passenger', 'deeply', '/r/funny', 'stopping', 'creation', 'ambiguous', 'straw', 'stark', 'enforce', 'falcon', 'dates', 'liga', 'std', 'protests', '2002', 'absent', 'upbringing', 'tor', 'comparable', 'tolerate', 'flipping', 'studying', 'lame', 'hermione', 'disregard', 'protected', '1v1', 'writer', 'delusional', 'tattoo', 'sticker', 'oklahoma', 'tongue', 'conduct', 'opposing', 'productive', 'fertility', 'lap', 'bdsm', 'occurs', 'pikachu', 'gente', 'songs', 'realizes', 'malicious', 'declared', 'accidentally', 'damned', 'association', 'closely', 'pee', 'helmets', 'fortunately', 'cement', 'strongly', 'sometime', 'chuck', 'bitches', 'ghosts', 'starbucks', 'insanity', 'crops', 'mountains', 'respected', 'gravity', 'keeper', 'marriages', 'stall', 'singapore', 'howard', 'closest', 'viral', 'hills', 'abuses', 'deaf', 'cracked', 'cough', 'spoken', 'suburbs', 'suspended', 'unemployment', 'joy', 'treats', 'flames', 'rhetoric', 'indo-aryan', 'whining', 'allies', 'chamber', 'surprisingly', 'walt', 'drew', 'opponents', 'horribly', 'dime', 'dependent', 'swat', 'illegally', 'dumbass', 'fps', 'summary', 'suarez', 'leaks', 'athletic', 'latter', 'l', 'twin', 'turbines', 'cache', '8th', 'spying', '1500', 'tactic', 'fatal', 'responses', 'revenge', 'lips', 'survey', 'chill', 'ama', '360', 'wayne', 'govt', 'imply', 'mario', 'pls', 'lil', 'snap', 'discriminate', 'qualities', 'liver', 'nailed', 'maintenance', 'produces', 'loop', 'underground', 'squats', 'riot', 'statistically', 'misunderstanding', 'melting', 'asylum', 'adjust', 'devil', 'spoils', \"'em\", 'blanket', 'serves', 'matrix', 'shake', 'woods', 'disc', 'forslag', 'attraction', 'boycott', 'scam', 'denying', 'invade', 'prize', 'ft', 'adopt', 'cups', 'viewed', 'jimmy', 'stranger', 'requirement', 'forbidden', 'advise', 'traits', 'wreck', 'angel', 'msg', 'dues', 'flags', 'remaining', 'poll', 'latin', 'funded', 'sane', 'farmers', 'input', 'mathematics', 'abusing', 'stripes', 'satire', 'thankfully', 'lion', 'string', 'viewing', 'sharp', 'talented', 'beloved', 'hook', 'editor', 'hilariously', 'poison', 'ruth', 'destructive', 'welp', 'grain', 'constitutional', 'chili', 'nukes', 'biologically', 'beers', 'iv', 'answering', 'percent', 'kansas', 'ironically', 'loaded', 'twenty', 'confront', 'charming', 'structures', 'imho', 'amusing', 'treatments', 'playoff', 'mr', 'dip', 'asia', 'guild', 'yankees', 'province', 'grey', 'stupidity', 'reserved', 'mafia', 'triggered', 'manual', 'designer', 'economics', 'vegas', 'harmless', 'couch', 'piracy', 'isreal', 'disney', 'asset', 'slope', 'api', 'blackwater', 'juice', 'topics', 'singer', 'grass', '//twitter.com/zerossb/', 'proportional', 'enforcement', 'bird', 'tackle', 'saint', 'debates', 'widely', 'sushi', 'cd', 'disappear', 'pats', 'highlight', 'cooler', 'indie', 'royal', 'aliens', 'c++', 'tighter', 'district', 'floors', 'suicidal', 'oppression', 'pakistan', 'accusation', 'barrier', '32', 'cinematography', 'humorous', 'ego', 'exam', 'gwarthgydd', 'mig', 'prone', 'attracted', 'partners', '2008.', 'errors', 'vegans', 'forgetting', 'hehe', 'whiny', 'complexity', 'distinction', 'strokes', 'pitching', 'confirmation', 'blonde', 'coincidence', 'module', 'algorithms', 'recommended', 'extremist', 'booze', 'communists', 'inches', 'frigate', 'assistance', 'jr', 'bicycle', 'underwear', 'graphic', 'perovskite', 'shocking', 'stripped', 'transmission', 'distracted', 'rating', 'upload', 'educational', 'pedophile', 'relation', 'protecting', 'grows', 'frozen', 'hiring', 'delivered', 'spectacular', 'homosexuals', 'adams', 'taxation', 'abandon', 'safely', 'norway', '1/2', 'inappropriate', 'tastes', 'sidewalk', 'spain', 'warned', 'shadows', 'goodness', 'earthquake', 'requested', 'peacefully', 'leisure', 'boundary', 'courts', 'yrs', 'coca', 'cameras', 'pops', 'widespread', 'blows', 'wilson', 'satan', 'congestion', 'regime', 'covering', 'ponce', 'notices', 'minerals', 'orbit', 'persons', 'sox', 'communities', 'ಠ_ಠ', 'outdated', 'manny', 'reducing', 'rookie', 'punishing', 'interim', 'capisco', 'couldnt', 'unpopular', 'automated', 'poland', 'objective', 'agrees', 'fee', 'distracting', 'height', 'arena', 'brick', 'inevitably', 'bearing', 'stones', 'tale', 'deserving', 'bashing', 'spectrum', 'audi', 'freshman', 'rhymes', 'vomit', 'rankings', 'encouraging', 'spreading', 'install', 'bully', 'filling', 'phrasing', 'teen', 'brewing', 'notes', 'nut', 'burns', 'burgers', 'creep', 'mc', 'barrage', 'stereotypes', 'mans', 'employment', 'vertical', 'controlling', 'tile', 'cod', 'culturally', 'accusing', 'divided', 'lifetime', 'rapidly', 'pleasant', 'steady', 'dawkins', 'gentleman', 'affiliated', 'hallway', 'trains', 'soap', 'enjoyable', 'institutions', 'hive', 'rant', 'strive', 'resolve', 'mandatory', 'trilogy', 'ally', 'independently', 'dismiss', 'superhero', 'refund', 'cbs', 'immense', 'warfare', 'irl', 'java', 'relate', 'damaging', 'midnight', 'operations', 'inbox', 'rear', 'improving', 'arts', 'pearl', 'tortured', 'warriors', 'formerly', 'lightly', 'permanently', 'novels', 'nerds', 'uht', '*what', 'cannabis', 'upgrade', 'sideways', 'virgin', 'typo', 'sorta', 'buster', 'premise', 'bop', 'transition', 'nfl', 'motor', 'grandpa', 'ussr', 'cosmetic', 'rico', 'arent', 'angeles', 'senior', 'struggles', 'brigade', 'producing', 'habs', 'fairy', 'upstairs', 'grave', 'browser', 'sided', 'legends', 'sounded', 'usage', 'residents', 'satisfied', 'landing', 'deliberate', 'relations', 'visa', 'midwest', 'poorer', 'jizz', 'pasta', 'temp', 'theories', 'gigantic', 'tube', 'strongest', 'participate', 'wiki', 'joined', 'desperate', 'prospect', 'technological', 'coalition', 'handling', 'arrow', 'marathon', 'charging', 'violate', 'courage', 'stereotype', 'bacteria', 'spirit', 'rewards', 'misguided', 'tanks', 'freddy', 'gordon', 'tempted', 'inventory', 'authorities', 'warrior', 'promotes', 'continued', 'polish', 'slice', 'issued', 'trusted', 'combine', 'shenanigans', 'reserves', 'kong', 'robert', 'forbid', 'soil', 'ideological', 'mechanism', 'ps3', 'inherent', 'counted', 'hateful', 'bbc', 'doom', 'bulk', 'thumb', 'margin', 'exams', 'ideal', 'pastor', 'myths', 'printed', 'loyal', 'thai', 'competing', 'touching', 'leaked', 'np', '48', 'bucket', 'priest', 'grandmother', 'monkey', 'ontario', 'discover', 'spelled', 'wears', 'sheer', 'objects', 'aunt', 'agreeing', 'diving', 'ole', 'painting', 'vice', 'contributing', 'tourists', 'exploring', 'shia', 'illiteracy', 'violently', 'ko', 'sterling', 'delayed', 'complications', 'bash', 'intend', 'rampant', 'wishes', 'correction', 'ne', 'singing', 'arrogance', 'organs', 'busted', 'casually', 't2', 'diseases', 'prosecutor', 'jumps', 'vulnerable', 'clay', 'accessed', 'observations', 'fyi', 'corporation', 'addict', 'stake', 'narrow', 'lasted', 'hotline', 'tennis', 'taxis', 'shy', 'qui', 'populace', 'islamic', 'untrue', 'authors', 'gate', 'scope', 'lessons', 'celebrity', 'edgy', 'promote', 'application', 'squad', 'shorter', 'partly', 'mai', 'optional', 'founded', 'mit', 'funnier', 'yourselves', 'legendary', 'muscles', 'darkness', 'contracts', 'greece', 'lemon', 'alabama', 'backed', 'sitcom', 'universally', 'closet', 'asada', 'arrive', 'simpsons', 'surrounded', 'suggestions', 'arabia', 'pistol', '2010', 'formed', 'cans', 'intentions', 'mas', 'downtown', 'offender', 'twitch', 'guest', 'wary', 'flood', 'billy', 'holder', 'sped', 'fiscal', 'pogba', 'mins', 'ziggy', 'dealers', 'raptor', 'tampa', 'jeb', 'thin', 'expanded', 'entity', 'jarring', 'vader', 'dane', 'shine', 'proceed', 'refusing', '26', 'entering', 'sacrifice', 'lore', 'peoples', 'robin', 'belongs', 'translate', 'cracks', 'allegedly', 'defendant', '4chan', 'olympic', 'statistical', 'proportion', 'priceless', 'forums', 'logo', 'gawd', 'participation', 'competitors', 'exploited', 'corps', 'industries', 'variable', 'instances', 'oregon', 'replacement', 'sunny', 'bypass', 'murdering', 'rash', 'palestine', 'tracking', 'revolutionary', 'accidents', 'wiped', 'cleaned', 'sector', 'plagiarism', 'genitals', 'stubborn', 'pillow', 'bumps', 'peaceful', 'precise', 'hypocrisy', 'representative', 'ward', 'finland', 'sprint', 'inflation', 'abandoned', 'savings', 'st.', 'mommy', 'gloves', 'trail', 'reactions', 'laughter', 'format', 'switching', 'disorder', 'cardiology', 'ultra', 'functional', 'vietnam', 'imagery', 'muh', 'mood', 'apologists', 'camping', 'polygon', 'amateur', 'conditioning', 'staggering', 'greatly', 'advocate', 'breast', \"c'est\", 'sublime', 'qmay', 'caring', 'pe', 'festival', 'websites', 'crucial', 'fundamentally', 'dictators', 'soldier', 'gpu', 'downloaded', 'robotic', 'thug', 'enforced', 'diary', 'promised', 'mythic', 'fictional', 'underlying', 'boot', '50k', 'imagined', 'award', 'farmer', 'qatari', 'september', 'represents', 'rider', 'presentation', 'gauge', 'setup', 'locking', 'register', 'spray', 'certified', 'genetics', 'ab', 'beams', 'leash', 'sized', 'aggression', 'dated', 'shrink', 'assistant', 'consequence', 'permanent', 'schumacher', 'convoy', 'soluble', 'sore', 'fork', 'spam', 'shouldnt', 'bandwagon', 'minimal', 'monthly', 'dominated', 'basket', 'homosexual', 'unfairly', 'limitations', 'calmly', 'leaking', 'rank', 'hunters', 'patterns', 'approximately', 'min', 'sisters', 'dodged', 'blowing', 'wrath', 'copies', 'inspired', 'epic', 'sends', 'breed', 'lobby', 'jurisdiction', 'queen', 'mosby', 'leffen', 'resolution', 'respectively', 'bolts', 'politely', 'nearest', 'astros', 'losses', 'climbing', 'conflicts', 'scripts', 'expectation', 'hid', '38', 'intense', '//ascelibrary.org/doi/abs/10.1061/41031', 'employ', 'mates', 'dumped', 'forming', 'mourinho', 'investors', 'italy', 'fallacy', 'kit', 'customs', 'judgement', 'admittedly', 'fossil', 'testimony', 'semester', 'vanilla', 'professors', 'diego', 'bleeding', 'shady', 'hack', 'cuban', 'vague', 'mango', 'potency', 'auto', 'alike', 'tens', 'furniture', 'thud', 'fsu', 'isolated', 'tavern', 'origins', 'vastly', 'crossed', 'subjective', 'print', 'unsafe', 'square', 'yellow', 'strap', 'visible', 'slides', 'markets', 'ranking', 'fortunate', 'profits', 'knight', 'knocking', 'confrontation', 'ruins', 'password', 'hull', 'addressed', 'meyer', 'fears', 'essay', 'bra', 'stepped', 'molested', 'medium', 'civilized', 'succeeded', 'buffon', 'mecha', 'database', 'ozil', 'hahaha', 'functioning', 'soup', 'musical', 'whale', 'brief', 'vn', 'evolved', 'inform', 'chemicals', 'edition', 'accountable', 'lit', 'theirs', 'shining', 'tradition', 'pig', 'entrenched', 'stays', 'outrage', 'organize', 'mouths', 'angels', 'bites', 'procedures', 'confusion', 'aw', 'administrative', 'del', 'reasonably', 'defeat', 'les', 'sauce', 'play-by-play', 'trait', 'brutality', '*you*', 'safer', 'jam', 'airplane', 'happend', 'followers', '28341', 'sporting', 'molestation', 'romantic', 'arthur', 'churchill', 'integration', '110', 'butthurt', 'andy', 'ayy', 'testament', 'louis', 'fgm', 'gasoline', 'theaters', 'guests', 'submitted', 'venue', 'educate', 'menu', 'husbands', 'frustrating', 'boca', 'dominate', 'alfonzo', 'lee', 'organisation', 'hamilton', 'illusion', 'virginia', 'vietnamese', 'phoenix', 'genocide', 'intake', 'quando', 'seafood', 'distant', 'satellite', 'finite', 'remembering', 'loan', 'discriminated', 'gutted', 'intersection', 'execution', 'aoa', 'inherently', 'june', 'trafficking', '64', 'approached', 'routine', 'upvoting', 'studios', 'bothering', 'repetitive', 'st', 'downstairs', 'hoa', 'tires', 'lfr', 'whip', '*did*', 'bean', 'ioactive', 'represented', 'garlic', \"*don't*\", 'han', 'cheesecake', 'shelf', 'gonzalez', 'allah', 'preach', 'mtv', 'describes', 'leak', 'pcs', 'expert', 'demonstrate', 'sarcasm', 'alcoholic', 'selected', 'electricity', 'natives', '100k', '100,000', 'gaining', 'jar', 'secrets', 'vehemently', 'correlation', 'j', 'indicator', 'hugely', 'refugees', 'marth', 'lightweight', 'outfit', 'voices', 'jaw', 'intel', 'overhaul', 'thomas', 'drones', 'approaching', 'ploy', 'banter', 'nerves', 'marine', 'reviewed', \"'no\", 'creativity', 'churches', 'worries', 'misunderstood', 'genetic', 'registered', 'departments', 'suitable', 'favorites', 'fudge', 'gangs', 'sabres', 'discredit', 'olympics', 'pound', 'behalf', 'concentration', 'factual', 'streak', 'comedians', 'prejudice', 'cheek', 'grease', 'oppressed', 'candidates', 'cooper', 'sequels', 'hostile', 'intolerance', 'stages', 'acknowledging', 'yay', 'rifle', 'thanking', '1.5', 'gained', 'faithful', 'noticeable', 'tyler', '1984', 'rigged', 'inner', 'engage', 'commissioner', 'scan', 'bags', 'ep', 'console', 'preorder', 'manipulate', 'goat', 'modi', 'graduation', 'milan', 'folder', 'rangers', 'boxer', 'fitting', 'fixes', 'bloated', 'hw', 'impacts', 'gorgeous', 'unlimited', 'drastically', 'firms', 'fixated', 'geneva', 'microwave', 'contexts', 'containing', 'genes', 'bigotry', 'roots', 'refuses', 'contractors', 'earnings', 'princess', 'albums', 'filed', 'succeed', 'zionist', 'surrey', 'incentive', 'electoral', 'ubw', 'wildly', 'putin', 'bump', 'universities', 'commentator', 'freedoms', 'diabetes', 'assassination', 'firearms', 'widow', 'reporting', '140', 'packing', 'skyrim', 'z', 'controller', 'classified', 'dang', 'aww', 'loudly', 'hump', 'branch', 'curves', 'humanitarian', 'occupying', 'edward', 'abc', 'ppl', 'kuin', 'saga', 'dallas', 'noise', 't-shirt', 'losers', 'offset', 'umbrella', '44', 'brag', 'kun', 'bds', 'sadness', 'shaming', 'sheets', 'log', 'rival', 'rains', 'extensive', 'finance', 'ei', 'halfway', 'messages', 'psycho', 'longest', 'sm4sh', 'vettel', 'noting', 'kurt', 'fits', 'rejected', 'cabinet', 'spouses', 'suggests', 'swords', 'cautious', 'iphones', '**you', 'ma', 'subsidies', 'chronic', 'ditch', 'forcibly', 'alt', 'antibiotics', 'props', 'motherfucking', 'describing', 'rebel', 'derivative', 'abilities', 'skewed', 'applying', 'horrific', 'heartwarming', 'simpson', 'relating', 'chemical', 'virtual', 'darts', 'chooses', 'carolina', 'focusing', 'accordingly', '50s', 'reset', 'm2k', 'whatnot', 'haircut', 'rowing', 'airline', 'probable', 'tit', 'binary', 'peer', 'tossed', 'jets', 'satisfaction', 'kashmir', 'austerity', 'experts', 'grinding', 'defeated', '*a', 'ant', 'experiencing', 'alongside', 'performances', '2011', 'possessing', 'jeremy', 'wherever', 'hardest', 'incidents', 'jaden', 'watchers', 'disagrees', 'prisoners', 'jared', 'dpb', 'novel', 'rubbing', 'fathom', 'whoa', 'fats', 'pepper', 'entertaining', 'simon', 'gps', 'cereal', 'handles', 'giants', 'cite', 'bin', '*could*', 'debating', 'kim', 'triggers', 'tragedy', 'compassion', 'douchebag', 'origin', 'receiver', 'rift', 'comp', 'circuit', 'breastfeeding', 'celebrations', 'coworker', 'memorize', 'keen', 'kkk', 'interpreted', 'formation', 'kelly', 'vinegar', 'biblical', 'hooked', 'vodka', 'destination', 'proposed', 'pouring', 'victoria', 'approve', 'anthem', 'bullied', '120', 'volume', '3-4', 'approval', 'mac', 'broadly', 'attending', 'noone', 'reception', 'sneak', 'fines', 'marked', 'rpg', 'hahahaha', 'apartheid', 'bless', 'boob', 'conclude', 'affair', 'birds', 'trace', 'johnson', 'branches', 'luke', 'cam', 'rooted', 'grunge', 'vancouver', 'jeez', 'interface', 'lube', 'cooked', 'accessible', 'thankful', 'tarantino', 'fame', 'ears', 'awakening', 'holidays', 'disappeared', 'detrimental', 'addictive', 'sip', 'euros', 'index', 'sandra', 'oceans', 'aim', 'violation', 'diy', 'pornography', 'imposed', 'neutral', 'recourse', 'discourage', 'rail', 'fiasco', 'kwh', 'aint', 'museum', 'respectable', 'pressed', 'te', 'encrypted', 'aircraft', 'speaker', 'casillas', 'endurance', 'disappointing', 'bishop', 'crotch', 'pacing', 'deemed', 'masters', 'heterosexual', 'patriots', '/r/atheism', 'shirts', 'abrams', 'nba', 'absence', 'popped', 'dishonored', 'battlefield', 'expenses', 'fried', 'hangover', 'poisoning', 'adjusted', 'reliant', 'contains', '*you', 'pero', 'monaco', 'warner', 'tea', 'williams', 'bounce', 'oblivious', 'clearing', '^|', 'slaughter', 'vpn', 'circular', 'savage', 'lean', 'sole', 'des', 'dresses', 'deadlifts', 'fallen', 'shepherd', 'browse', 'ahhh', 'newcastle', 'simpler', 'fairness', 'mri', 'ferrets', 'murdoch', 'scroll', 'huppenthal', 'literature', 'conclusions', 'hoped', 'obsessing', 'dofp', 'violations', 'paycheck', 'troubleshooting', 'journey', 'lacks', 'ferguson', 'adam', 'assaults', 'teens', 'triangle', 'invisible', 'patience', 'tribute', 'admission', 'iraqi', 'specs', 'avocado', 'thirty', 'dean', 'kicks', 'exploiting', 'backs', 'mcgregor', 'mindless', 'snack', '*my', 'framework', 'contributed', 'iraqis', 'asta', 'facility', 'beg', 'nostalgia', 'envelope', 'blatant', 'cousin', 'condom', 'coaching', 'removal', 'compact', 'flower', 'aged', 'kp', 'investments', 'restroom', 't1', '*nothing*', 'highschool', 'butcher', 'beep', 'rodney', 'recover', 'manhattan', 'knees', 'glory', 'bland', 'bug', 'coupled', 'une', 'newer', 'unarmed', 'spouse', 'tie', 'demo', 'faking', 'fold', 'maintains', 'celebrating', 'bargaining', 'relied', 'rotten', '*all*', 'bent', 'encounter', 'wooper', 'pre', 'establishment', 'stretching', 'twisting', 'scrape', 'diagnosis', 'homophobia', 'canceled', 'vince', 'intensity', 'duh', 'spotify', 'appeared', '43', 'banging', 'banner', 'chick', 'glycogen', '4k', 'meika', 'gandhi', 'fence', 'psychological', 'travellers', 'divine', 'earning', 'seekers', 'oldest', 'diagnosed', 'barn', 'bore', 'manufacturing', 'nickname', 'heres', '160', 'instagram', 'therapist', 'commonwealth', 'earthquakes', 'ray', 'environmental', 'seriousness', 'headlines', 'glitch', 'clerk', 'pitcher', 'teaser', 'animation', 'coke', 'reporters', '/r/politics', 'beside', 'processed', 'sleeper', 'negatively', 'classmates', 'prep', 'proves', 'responded', 'responds', 'assembly', 'restore', '28369', 'adjustments', 'witnesses', 'printing', 'surge', 'butthole', 'textbook', 'trees', 'upsetting', 'gut', 'hypocrite', 'und', 'gu', 'neighborhoods', 'lakes', 'largest', 'mp', 'scenarios', 'charm', 'temporary', 'animosity', 'cannibal', 'cola', 'medallion', 'fists', 'ivan', 'ajax', 'vid', 'spaghetti', 'mercedes', 'locations', 'sjws', 'realization', 'emails', 'artifacts', 'minister', 'wdc', 'pup', 'ranks', 'partially', 'analogy', 'peppers', 'alle', 'jackass', 'venture', 'ferrari', 'ratings', 'bombs', 'located', 'battleship', 'phd', 'algorithm', 'harmful', 'seal', 'demonstrates', 'interviewed', 'creates', 'ideals', 'walker', 'compressed', 'allergies', 'mega', 'disruptive', 'furry', 'pronounced', 'predictable', 'connects', 'accomplished', 'cheated', 'modeling', 'judaism', 'controls', 'exclude', 'fixing', 'partial', 'evo', 'spaces', 'subtitles', 'construct', 'coat', 'fucker', 'desired', 'wicked', 'fov', 'stalin', '21st', 'interviewer', 'anecdotes', 'vegetables', 'resort', 'grief', 'router', 'committee', 'drank', 'corny', 'rabbit', 'bets', 'voldemort', 'censoring', 'pattern', 'dictionary', 'yemen', 'consumers', 'porsche', 'promises', 'breathing', 'consciousness', 'ops', 'exclusively', '35', 'petroleum', 'representing', 'thugs', 'conviction', 'sooo', 'garrison', 'uniform', 'manufacturer', 'morality', 'advising', 'opportunities', 'gamers', 'quoted', 'suggestion', 'recipe', 'recognized', 'sing', 'gesture', 'electrical', 'destroys', 'electronics', 'hacker', 'chart', 'feeding', 'kimchi', 'trainer', 'analyzing', 'scott', 'guts', 'combos', 'mindset', 'satirical', 'partiet', 'diminished', 'presidential', 'achieved', 'albeit', 'clark', 'altitude', 'launched', 'não', 'sacrificing', 'criteria', 'triple', 'sleeve', 'mariota', 'historic', 'gruesome', 'periodization', 'pressing', 'rioting', 'trapped', 'enlighten', 'obligatory', 'raids', 'olivine', 'purposely', 'tangent', 'richard', 'immigrant', 'yeast', 'hawks', 'promoting', 'monday', 'technologies', 'swedish', 'header', 'accompanied', 'appreciated', 'militant', 'hazard', 'candy', 'basics', 'resist', 'suited', 'farahlon', 'skirt', 'fleet', 'obscene', 'bodybuilding', '/r/all', 'bankrupt', 'flashy', 'mcnally', 'plants', 'mortal', 'kings', 'narcolepsy', 'characterized', 'brah', 'tour', 'pitchers', 'gourmet', 'subscribers', 'sympathetic', 'md', 'barren', 'amazingly', 'hur', 'cruise', 'introduction', 'subreddits', 'sur', 'rivalry', 'engines', 'hm', 'leap', 'writers', 'fry', 'photoshopped', 'indirect', 'criticizing', 'differ', 'mutually', 'dave', 'aging', 'monitored', 'blocks', 'morally', 'thoughtful', 'intrinsically', 'wrist', '1982', 'paternity', 'volunteers', 'victories', 'recognise', 'tlc', 'chunk', 'sandwich', 'catalyst', 'shadowbans', 'arnold', '60fps', 'furious', 'potatoes', 'documents', 'tricky', 'lbs', 'passengers', 'task', 'dumbest', 'disturbed', 'dlc', '100.', '1997', 'shall', 'celebrities', 'anxious', 'hypothetical', 'educating', 'mfw', 'seize', 'blatter', 'adjuster', 'mexico', 'usable', 'conventional', 'fireworks', 'explore', 'vendor', '*and*', 'regimes', '*in', 'municipal', 'needless', 'rifles', 'sock', 'hardened', 'worn', '//ascelibrary.org/doi/abs/10.1061/41130', 'starter', 'seemingly', 'flagships', 'shitload', 'missiles', 'disgusted', 'monopoly', 'forest', 'dedication', 'themes', 'georgia', 'mounts', 'sirius', 'inequality', 'lecture', 'hvor', 'amen', 'robbed', 'sum', 'county', 'rb', 'pie', 'steven', 'capabilities', 'his/her', 'noted', 'tension', 'amazes', 'chin', 'expertise', 'removes', 'sono', 'yoga', 'trope', 'kane', 'jedi', 'mcdonald', 'cancel', 'brit', 'baptist', 'investigating', 'paradise', 'portal', 'qualifies', 'fathers', 'hint', 'olive', 'exhaust', 'dramatically', 'wheelchair', 'taxpayers', 'wore', 'commits', 'hacking', 'rub', 'wrecked', 'entitlement', 'cinematic', 'descended', 'activists', 'relaxing', 'properties', 'docs', 'noticing', 'egalitarianism', 'phrases', 'converted', 'intellectual', 'morty', 'calculations', 'stadiums', 'phil', 'possibilities', 'homework', 'graham', 'nude', 'actress', 'intimate', 'hoult', 'mikatan', 'regional', 'slut', '1960s', 'reminding', '1200', 'rebuttal', 'preferably', 'censor', 'roses', 'comme', 'spinal', 'x-men', 'pisses', 'kirby', 'sting', 'intruder', '12.', 'buffer', 'disputes', 'huston', 'tendency', 'metric', 'tutorials', 'harassing', 'kanye', 'disclosed', 'applicable', 'jfk', 'oye', '2004.', 'plex', 'pap', 'frustration', 'abstract', 'mines', 'trump', 'completion', 'raises', 'penalized', 'purchasing', 'sections', 'lte', 'wonders', 'dolphin', 'dot', 'backyard', 'detroit', 'aswell', 'batteries', 'chased', 'wouldn', 'migrant', 'iq', 'mandate', 'comprehension', 'suspend', 'chickens', 'lethal', 'bath', 'tricked', 'unreal', '**do', 'sony', 'pancakes', 'villains', 'deck', 'hoarding', 'goalkeeper', 'premium', 'demands', 'colours', 'appt', 'awake', 'right-wing', 'deals', 'worthwhile', 'ledge', 'wii', 'neuer', 'nbc', 'costa', 'insisting', 'unaware', 'humble', 'isn', 'thief', 'affairs', 'hurtful', 'predict', 'extremists', 'buck', 'bombing', 'kennedy', 'squid', 'aaa', 'wheaton', 'supportive', 'keepers', 'murderer', 'chile', 'strengths', 'ƭӈє', 'flesh', 'briefly', 'clicks', 'randy', 'occupied', 'shuts', 'twilight', 'uniforms', 'inheritance', 'strep', 'advertisement', 'shaving', 'cynical', 'finishes', 'wrap', 'lifts', 'hinder', 'queue', 'nuanced', 'announcing', 'reggie', 'flawed', 'nash', 'chaos', 'dee', 'bigots', 'similarities', 'costly', 'relax', 'starcraft', 'chef', 'nirvana', 'printer', 'consumes', '9/10', 'raiders', 'so..', 'ghrelin', 'qualify', 'macro', 'begged', 'salsa', 'criticisms', 'shadowbanned', 'valencia', 'advert', 'bi', 'static', 'draws', 'rainbow', 'lined', 'meters', 'experiments', 'elegant', 'focuses', 'dinosaur', 'brojob', 'dent', 'proportions', 'bp', 'rays', 'wednesday', 'confirming', 'crashing', 'translates', 'vincent', 'constitutes', 'hispanic', 'lgbt', 'capita', 'dexter', 'toyota', 'polling', 'controversy', 'adventures', 'professions', 'substantial', 'purple', 'hugh', 'scratching', 'lick', 'pitzer', 'efficiently', 'tantrum', 'mixture', 'barbaric', 'brigading', 'rumors', 'upcoming', 'bait', 'pulls', 'fanboy', 'ct', 'assaulted', 'trauma', 'secretary', 'mystery', 'pause', 'maker', 'isp', 'reunion', 'estoy', 'logistics', 'unwilling', 'labels', 'barça', 'galatasaray', 'rising', 'merits', 'rematch', 'impacted', 'emphasis', 'coping', 'wa', 'spilled', 'magnitude', 'offseason', '2007.', 'segment', 'survival', 'deciding', 'recession', 'vaccines', 'liberty', 'drill', 'pressured', 'jeans', 'freddie', 'capitals', 'width', '3000', 'grit', 'utd', 'flies', 'adoption', 'evaluation', 'rakhine', 'dk', 'logs', 'lurk', 'exaggerating', 'overrated', 'memorial', 'loki', 'pills', 'bachelor', 'modify', 'arguably', 'float', 'aou', 'believable', 'obesity', 'cheater', 'vengeance', '1,000', 'humour', 'ambient', 'inconsistent', 'midfielder', 'stem', 'apathetic', 'boarding', 'flowers', '//play.google.com/store/apps/details', 'burst', 'spurs', 'comparatively', 'respects', 'heinous', 'boomers', 'edits', 'toaster', 'inconsiderate', 'fascist', 'disparity', 'sandals', 'engaging', 'shelter', 'replies', 'ava', 'evolve', '*never*', 'anonymity', 'indiana', 'firefox', 'unpredictable', 'pal', 'toujours', 'riiiiight', 'supermarket', 'murica', 'horrendous', 'trio', 'courtesy', 'transactions', 'seed', 'publix', 'sights', 'gaps', 'hurry', 'atletico', 'yall', 'cu', 'travelling', 'imma', 'fdi', 'frivolous', 'gp', 'saigon', 'ea', 'distributed', 'esl', '24/7', 'con', 'gerd', 'contracted', 'uhhh', 'ele', 'adolescent', 'inept', 'mythical', 'farms', '1948', 'bodybuilders', 'massively', 'lip', 'las', 'olla', 'interacting', 'das', 'leftist', '*was*', '10+', 'québec', 'abs', 'mixing', 'forty', 'hackers', 'manners', 'voxel', 'dea', 'ramifications', 'multi', 'colleges', 'tripping', 'eaten', 'converts', 'mighty', 'advocating', 'reign', 'wade', 'pardon', 'sellers', 'regarded', 'majors', 'showered', 'bullets', '1961', 'wrapped', 'magazines', 'kombat', 'financially', '//ascelibrary.org/doi/abs/10.1061/41016', 'bruh', 'assaulting', 'proposing', 'whisper', 'copper', 'terrain', 'sci-fi', 'exposing', 'magnet', 'challenging', 'skipped', 'contenders', 'evident', 'defective', '3232', 'makers', 'scrutiny', 'colored', 'medal', 'traveled', 'lesbian', 'choke', 'ye', 'shoe', 'austrian', 'functionality', 'mortar', 'constituencies', 'casts', 'cloth', 'weaker', 'rete', 'oxygen', 'gentlemen', 'notion', 'muscular', 'amusement', 'marijuana', 'jays', 'winston', 'sonic', 'keked', 'mole', '57', 'critique', 'ramp', 'lastly', 'conscious', 'tribes', 'concert', 'shat', 'html', 'distrust', 'fading', '180', 'monetary', 'trophies', 'resembling', 'boots', 'acquisition', 'est', 'subaru', 'ni', 'sweep', 'transit', 'elevator', 'i.', 'graduate', 'rin', 'communicating', 'dennis', 'gmail', 'idiotic', 'gmg', 'referencing', 'arizona', 'incompetent', 'undesirable', 'tilt', 'medals', 'dp', 'grad', 'doin', 'symbolic', 'rohingya', 'profitability', 'advocacy', 'whim', 'lares', 'tourist', 'intp', 'prescribed', 'disregarding', 'tweets', 'secular', 'guise', 'animations', 'predatory', 'corp', 'lifter', 'spit', 'networking', 'catering', '343', 'creators', 'amongst', 'boogeyman', 'masturbate', 'loops', 'sanchez', 'manipulating', 'counselor', 'freaked', 'inconveniences', 'ink', 'sadistic', 'ivanovic', 'rome', 'saves', 'codes', 'locals', 'interrupted', '20k', 'spawn', 'mdma', 'tiring', '19.', 'maoists', 'clinic', 'floods', 'bribe', 'bumper', 'horseshit', 'ghetto', 'eternal', 'oral', 'counterproductive', '*are*', 'horses', 'exposition', 'gravitational', 'ftw', 'quicker', 'harvest', 'biker', 'survivor', 'category', 'notify', 'buffalo', 'damaged', 'ashley', 'cruz', 'insecurities', 'ap', 'comparisons', 'bee', 'contacts', 'gmo', 'nephews', 'clown', 'bomber', 'marshall', 'builders', 'readers', 'pros', 'explorer', 'wisdom', 'fiddy', 'gods', 'su', 'chemistry', 'elves', 'sharon', 'goons', 'naval', 'subscription', 'smashed', 'aussi', 'smells', 'commercials', '/message/compose/', 'upsets', 'tougher', 'carrier', 'pension', 'dubstep', 'cleaner', 'violating', 'thoroughly', 'trainers', 'melts', 'jos', 'libertarians', 'contained', 'featuring', 'problematic', 'scapegoat', 'snooping', 'crown', 'gsp', 'revealing', 'redditor', 'xkcd', 'mcc', 'availability', 'når', 'impose', 'noises', 'jenn', 'davis', 'suspension', 'punching', 'witnessed', 'medieval', 'mobs', 'jealousy', 'sings', 'goodbye', 'workouts', 'shorts', 'wingspan', 'betting', 'dakota', 'vessels', 'glucose', 'solving', 'suburban', 'badge', 'dota', 'specify', 'obscure', 'populations', 'impartial', 'faux', 'popularized', 'zoom', 'chocolate', 'july', 'maria', 'crouch', 'isshiki', 'bombers', 'miscarriage', 'overpriced', 'cope', 'terry', '~~', 'ff', 'privately', 'syria', 'penises', 'october', 'generalizations', 'dj', 'hyperbole', 'rig', '*should*', 'poop', 'bottles', 'suspicion', 'wound', 'spat', 'maxed', 'full-time', 'integer', 'sins', 'nike', 'practicing', 'pitchforks', 'gentle', 'mcdavid', 'patches', 'communism', 'predator', 'clitoris', 'expiration', 'boner', 'exercises', 'disclosure', 'scuba', 'waist', 'statute', 'pumping', 'tasks', '*might*', 'dried', 'styles', 'disappearing', 'risky', 'dose', 'rhonda', 'gatsby', 'gg', 'falsely', 'persecuted', 'structural', '7,000', 'unclear', 'completed', 'tomb', 'scholes', '1.1', '^by', 'd1', 'purgatory', 'drowning', 'tldr', 'picky', 'caesar', 'dairy', 'navigation', 'bases', 'nyt', 'annual', 'redeemed', 'viewpoints', 'duo', 'difficulty', 'defended', '*this*', 'competitions', 'variations', 'spiderman', 'watches', 'dominance', 'usb', 'genders', 'labs', 'samsung', 'images', 'stfu', 'phrased', 'lads', 'shitting', 'interior', 'lib', 'parental', 'admin', 'frigates', 'forearms', 'alice', 'seeds', 'misuse', 'threshold', 'sabotage', 'starve', 'hybrid', 'appropriately', 'martyr', 'reservation', 'fools', 'illustrate', 'deployed', 'anarchist', 'limiting', 'indicative', 'guidelines', 'insulted', \"'i\", 'lisa', 'bonuses', '28314', 'perpetual', 'dial', 'heartbreaking', 'condemn', 'innovative', 'uf', 'programmers', 'disagreeing', 'elephant', 'disconnect', 'crowded', 'fuckers', '290887-3828', 'sustain', 'stevie', 'disk', 'ranchers', 'toes', 'smelling', 'stripping', 'thrilled', 'westminster', 'pete', 'sin', 'disconcerting', 'mouse', 'axe', 'surrender', 'dickhead', 'portuguese', 'usd', 'luxury', 'å', 'protesting', 'rapper', 'charles', 'virker', 'semantics', 'prakrit', 'butts', 'plank', 'improvement', 'middle-class', 'endings', 'towns', 'preservation', '*he', 'directors', 'pensions', 'avoided', 'switches', 'atlanta', 'halt', 'lifted', 'visually', 'bodily', 'francisco', 'jon', 'vacuum', 'respectful', 'awards', 'spells', 'navigator', 'boxes', 'specialist', 'apologized', 'senators', 'wod', 'bouncing', 'buh', 'grammer', 'stepping', 'borrowed', 'tolerated', 'ebola', 'serial', 'foreskin', 'density', 'ala', 'wizard', 'pope', 'greg', 'intuitive', 'raiden', 'pardew', 'scandinavia', 'miley', 'judged', 'ortiz', '30,000', 'heel', 'cezve', 'sedan', 'foxes', 'cheers', 'deity', 'cooldown', 'pounding', '2.0', 'stir', 'invention', 'ser', 'exploration', 'russell', 'progressively', 'bleach', 'ghost', 'predators', 'ingredients', 'manipulation', 'canucks', 'fishy', 'juries', 'swap', 'similarly', 'auf', 'denmark', 'kidnapping', 'showers', 'stances', 'collected', 'insurgents', 'targeted', 'hl=en', 'bloke', 'ved', 'dignity', 'varies', 'fitted', 'lowering', 'mls', 'buyer', 'turd', 'maintained', 'murderous', 'nicest', 'prosecute', 'competent', 'insight', '„', 'airspace', 'accurately', 'rental', 'reservoirs', 'jason', 'advertising', 'quietly', 'governing', 'wounds', 'dynamic', 'machinery', 'molesters', 'hash', 'insulting', 'traces', 'spite', 'neon', 'inability', 'harris', 'approximation', '**negative**', 'polo', 'memorable', 'prom', 'incompatible', 'notorious', 'ol', 'darn', 'kindly', 'stacks', 'kebab', 'mini', 'wendy', 'ps', 'marital', 'evasion', 'nonetheless', 'refs', 'fastest', 'principal', 'misinformation', 'flown', 'screens', 'pfft', 'itchy', 'dishonest', 'murray', 'lunatic', '3k', 'lever', 'ralph', 'striking', 'motivated', 'imaginary', 'armour', 'demolition', 'smear', 'organisms', '5-10', 'liquor', 'visiting', 'googling', 'grabs', 'gritty', 'theyre', 'nationals', 'ambulance', 'starters', 'raider', 'glance', 'painted', 'haram', 'champagne', 'innovation', 'revealed', 'interval', 'sentimental', 'founding', 'friendship', 'advances', 'decently', '99.9', 'primal', 'ipad', 'suv', 'commented', 'crippling', 'graffiti', 'arse', 'flights', 'jo', 'subsequent', 'ash', 'jose', 'occasional', 'lebouf', 'screwing', 'fatigue', '/r9k/', 'accountant', 'mil', 'slammed', 'indictment', 'endlessly', 'rousey', 'hyped', 'misogynistic', 'gag', 'battles', 'serie', 'metabolism', 'thursday', '/thread', 'tense', 'threatens', 'waters', 'geared', 'segway', 'smiles', 'calculation', 'transform', 'approaches', 'spikes', 'fringe', 'freaks', 'recognisable', 'carbon', 'ninja', 'gradually', 'kyllä', 'eisenberg', 'exclusion', 'cog', 'romance', 'adapt', 'jojo', 'derived', 'obi-wan', 'prophet', 'iconic', 'ankle', 'UNKNOWN_TOKEN']\n",
      "사용한 단어 수 8000.\n",
      "자주 등장하는 단어는 'ankle' 이며, 4 만큼 등장.\n"
     ]
    }
   ],
   "source": [
    "# Get the most common words and build index_to_word and word_to_index vectors\n",
    "vocab = word_freq.most_common(vocabulary_size-1)\n",
    "index_to_word = [x[0] for x in vocab]\n",
    "index_to_word.append(unknown_token)\n",
    "word_to_index = dict([(w,i) for i,w in enumerate(index_to_word)])\n",
    "\n",
    "print(index_to_word) # 단어 스플릿\n",
    "\n",
    "print(\"사용한 단어 수 %d.\" % vocabulary_size)\n",
    "print(\"자주 등장하는 단어는 '%s' 이며, %d 만큼 등장.\" % (vocab[-1][0], vocab[-1][1]))"
   ]
  },
  {
   "cell_type": "code",
   "execution_count": 44,
   "metadata": {},
   "outputs": [
    {
     "name": "stdout",
     "output_type": "stream",
     "text": [
      "\n",
      "Example sentence: 'SENTENCE_START i don't know where the people on this sub live. SENTENCE_END'\n",
      "\n",
      "Example sentence after Pre-processing: '['SENTENCE_START', 'i', 'do', \"n't\", 'know', 'where', 'the', 'people', 'on', 'this', 'sub', 'live', '.', 'SENTENCE_END']'\n"
     ]
    }
   ],
   "source": [
    "#문자열 파싱\n",
    "for i, sent in enumerate(tokenized_sentences):\n",
    "    tokenized_sentences[i] = [w if w in word_to_index else unknown_token for w in sent]\n",
    "    \n",
    "#문자열[0] 과 각 단어별 스플릿[0]\n",
    "print(\"\\nExample sentence: '%s'\" % sentences[0])\n",
    "print(\"\\nExample sentence after Pre-processing: '%s'\" % tokenized_sentences[0])"
   ]
  },
  {
   "cell_type": "code",
   "execution_count": 45,
   "metadata": {},
   "outputs": [
    {
     "name": "stdout",
     "output_type": "stream",
     "text": [
      "[list([0, 8, 26, 16, 96, 140, 3, 45, 22, 20, 608, 288, 2])\n",
      " list([0, 6, 342, 37, 11, 50, 129, 288, 14, 39, 868, 4, 194, 670, 242, 606, 2])\n",
      " list([0, 10, 50, 27, 7999, 4, 29, 10, 268, 37, 80, 15, 40, 106, 22, 3, 1882, 35, 219, 9, 3, 873, 2])\n",
      " ... list([0, 1642, 2]) list([0, 25, 15, 88, 103, 7999, 1600, 2])\n",
      " list([0, 7, 43, 7999, 588, 20, 183, 4, 8, 141, 126, 25, 134, 2916, 6, 163, 9, 787, 5, 3, 280, 2])] [list([8, 26, 16, 96, 140, 3, 45, 22, 20, 608, 288, 2, 1])\n",
      " list([6, 342, 37, 11, 50, 129, 288, 14, 39, 868, 4, 194, 670, 242, 606, 2, 1])\n",
      " list([10, 50, 27, 7999, 4, 29, 10, 268, 37, 80, 15, 40, 106, 22, 3, 1882, 35, 219, 9, 3, 873, 2, 1])\n",
      " ... list([1642, 2, 1]) list([25, 15, 88, 103, 7999, 1600, 2, 1])\n",
      " list([7, 43, 7999, 588, 20, 183, 4, 8, 141, 126, 25, 134, 2916, 6, 163, 9, 787, 5, 3, 280, 2, 1])]\n"
     ]
    }
   ],
   "source": [
    "#트레이닝 데이터 생성\n",
    "#문자열을 수치화로 표현\n",
    "X_train = np.asarray([[word_to_index[w] for w in sent[:-1]] for sent in tokenized_sentences])\n",
    "y_train = np.asarray([[word_to_index[w] for w in sent[1:]] for sent in tokenized_sentences])\n",
    "\n",
    "print(X_train, y_train)"
   ]
  },
  {
   "cell_type": "markdown",
   "metadata": {},
   "source": [
    "---\n",
    "### 역전파 생성"
   ]
  },
  {
   "cell_type": "code",
   "execution_count": 49,
   "metadata": {},
   "outputs": [],
   "source": [
    "def bptt(self, x, y):\n",
    "    T = len(y)\n",
    "    # Perform forward propagation\n",
    "    o, s = self.forward_propagation(x)\n",
    "    # We accumulate the gradients in these variables\n",
    "    dLdU = np.zeros(self.U.shape)\n",
    "    dLdV = np.zeros(self.V.shape)\n",
    "    dLdW = np.zeros(self.W.shape)\n",
    "    delta_o = o\n",
    "    delta_o[np.arange(len(y)), y] -= 1.\n",
    "    # For each output backwards...\n",
    "    for t in np.arange(T)[::-1]:\n",
    "        dLdV += np.outer(delta_o[t], s[t].T)\n",
    "        # Initial delta calculation\n",
    "        delta_t = self.V.T.dot(delta_o[t]) * (1 - (s[t] ** 2))\n",
    "        # Backpropagation through time (for at most self.bptt_truncate steps)\n",
    "        for bptt_step in np.arange(max(0, t-self.bptt_truncate), t+1)[::-1]:\n",
    "            # print \"Backpropagation step t=%d bptt step=%d \" % (t, bptt_step)\n",
    "            dLdW += np.outer(delta_t, s[bptt_step-1])\n",
    "            dLdU[:,x[bptt_step]] += delta_t\n",
    "            # Update delta for next step\n",
    "            delta_t = self.W.T.dot(delta_t) * (1 - s[bptt_step-1] ** 2)\n",
    "    return [dLdU, dLdV, dLdW]\n",
    "\n",
    "RNNTheano.bptt = bptt"
   ]
  },
  {
   "cell_type": "markdown",
   "metadata": {},
   "source": [
    "# 학습 시작"
   ]
  },
  {
   "cell_type": "code",
   "execution_count": 61,
   "metadata": {},
   "outputs": [],
   "source": [
    "# Outer SGD Loop\n",
    "# - model: RNNTheano\n",
    "# - X_train: The training data set\n",
    "# - y_train: The training data labels\n",
    "# - learning_rate: Initial learning rate for SGD\n",
    "# - nepoch: Number of times to iterate through the complete dataset\n",
    "# - evaluate_loss_after: 손실 함수 평가\n",
    "\n",
    "def train_with_sgd(model, X_train, y_train, learning_rate=0.005, nepoch=100, evaluate_loss_after=5):\n",
    "    # We keep track of the losses so we can plot them later\n",
    "    losses = []\n",
    "    num_examples_seen = 0\n",
    "    for epoch in range(nepoch): # 100번의 epoch 실행\n",
    "        # Optionally evaluate the loss\n",
    "        if (epoch % evaluate_loss_after == 0):\n",
    "            #손실 함수 게산\n",
    "            loss = model.calculate_loss(X_train, y_train)\n",
    "            losses.append((num_examples_seen, loss))\n",
    "            \n",
    "            time = datetime.now().strftime('%Y-%m-%d %H:%M:%S')\n",
    "            print (\"%s: Loss after num_examples_seen=%d epoch=%d: %f\" % (time, num_examples_seen, epoch, loss))\n",
    "            \n",
    "            \n",
    "            if (len(losses) > 1 and losses[-1][1] > losses[-2][1]):\n",
    "                learning_rate = learning_rate * 0.5\n",
    "                print (\"Setting learning rate to %f\" % learning_rate)\n",
    "            \n",
    "            \n",
    "            sys.stdout.flush()\n",
    "            \n",
    "        #SGD로 가중치 및 학습률 조정\n",
    "        for i in range(len(y_train)):\n",
    "            # One SGD step\n",
    "            model.sgd_step(X_train[i], y_train[i], learning_rate)\n",
    "            num_examples_seen += 1"
   ]
  },
  {
   "cell_type": "code",
   "execution_count": 62,
   "metadata": {},
   "outputs": [
    {
     "name": "stderr",
     "output_type": "stream",
     "text": [
      "./rnn-tutorial-rnnlm/rnn_theano.py:32: UserWarning: DEPRECATION: If x is a vector, Softmax will not automatically pad x anymore in next releases. If you need it, please do it manually. The vector case is gonna be supported soon and the output will be a vector.\n",
      "  o_t = T.nnet.softmax(V.dot(s_t))\n"
     ]
    },
    {
     "name": "stdout",
     "output_type": "stream",
     "text": [
      "2018-07-19 05:22:54: Loss after num_examples_seen=0 epoch=0: 8.987464\n",
      "2018-07-19 05:22:59: Loss after num_examples_seen=100 epoch=1: 8.971848\n",
      "2018-07-19 05:23:03: Loss after num_examples_seen=200 epoch=2: 8.947441\n",
      "2018-07-19 05:23:08: Loss after num_examples_seen=300 epoch=3: 8.888321\n",
      "2018-07-19 05:23:12: Loss after num_examples_seen=400 epoch=4: 7.688737\n",
      "2018-07-19 05:23:16: Loss after num_examples_seen=500 epoch=5: 7.321134\n",
      "2018-07-19 05:23:21: Loss after num_examples_seen=600 epoch=6: 7.134718\n",
      "2018-07-19 05:23:25: Loss after num_examples_seen=700 epoch=7: 6.990103\n",
      "2018-07-19 05:23:30: Loss after num_examples_seen=800 epoch=8: 6.889382\n",
      "2018-07-19 05:23:34: Loss after num_examples_seen=900 epoch=9: 6.821579\n",
      "2018-07-19 05:23:39: Loss after num_examples_seen=1000 epoch=10: 6.773368\n",
      "2018-07-19 05:23:43: Loss after num_examples_seen=1100 epoch=11: 6.734595\n",
      "2018-07-19 05:23:48: Loss after num_examples_seen=1200 epoch=12: 6.702999\n",
      "2018-07-19 05:23:52: Loss after num_examples_seen=1300 epoch=13: 6.678490\n",
      "2018-07-19 05:23:56: Loss after num_examples_seen=1400 epoch=14: 6.660314\n",
      "2018-07-19 05:24:01: Loss after num_examples_seen=1500 epoch=15: 6.647733\n",
      "2018-07-19 05:24:05: Loss after num_examples_seen=1600 epoch=16: 6.640401\n",
      "2018-07-19 05:24:10: Loss after num_examples_seen=1700 epoch=17: 6.638075\n",
      "2018-07-19 05:24:14: Loss after num_examples_seen=1800 epoch=18: 6.640332\n",
      "Setting learning rate to 0.002500\n",
      "2018-07-19 05:24:19: Loss after num_examples_seen=1900 epoch=19: 6.607850\n",
      "2018-07-19 05:24:23: Loss after num_examples_seen=2000 epoch=20: 6.609456\n",
      "Setting learning rate to 0.001250\n",
      "2018-07-19 05:24:28: Loss after num_examples_seen=2100 epoch=21: 6.589331\n",
      "2018-07-19 05:24:32: Loss after num_examples_seen=2200 epoch=22: 6.591422\n",
      "Setting learning rate to 0.000625\n",
      "2018-07-19 05:24:37: Loss after num_examples_seen=2300 epoch=23: 6.568580\n",
      "2018-07-19 05:24:41: Loss after num_examples_seen=2400 epoch=24: 6.571659\n",
      "Setting learning rate to 0.000313\n",
      "2018-07-19 05:24:45: Loss after num_examples_seen=2500 epoch=25: 6.554721\n",
      "2018-07-19 05:24:50: Loss after num_examples_seen=2600 epoch=26: 6.554263\n",
      "2018-07-19 05:24:54: Loss after num_examples_seen=2700 epoch=27: 6.555452\n",
      "Setting learning rate to 0.000156\n",
      "2018-07-19 05:24:59: Loss after num_examples_seen=2800 epoch=28: 6.549351\n",
      "2018-07-19 05:25:03: Loss after num_examples_seen=2900 epoch=29: 6.547648\n",
      "2018-07-19 05:25:08: Loss after num_examples_seen=3000 epoch=30: 6.547454\n",
      "2018-07-19 05:25:12: Loss after num_examples_seen=3100 epoch=31: 6.547758\n",
      "Setting learning rate to 0.000078\n",
      "2018-07-19 05:25:17: Loss after num_examples_seen=3200 epoch=32: 6.546137\n",
      "2018-07-19 05:25:21: Loss after num_examples_seen=3300 epoch=33: 6.545286\n",
      "2018-07-19 05:25:26: Loss after num_examples_seen=3400 epoch=34: 6.544887\n",
      "2018-07-19 05:25:30: Loss after num_examples_seen=3500 epoch=35: 6.544754\n",
      "2018-07-19 05:25:35: Loss after num_examples_seen=3600 epoch=36: 6.544776\n",
      "Setting learning rate to 0.000039\n",
      "2018-07-19 05:25:40: Loss after num_examples_seen=3700 epoch=37: 6.544358\n",
      "2018-07-19 05:25:44: Loss after num_examples_seen=3800 epoch=38: 6.544064\n",
      "2018-07-19 05:25:49: Loss after num_examples_seen=3900 epoch=39: 6.543864\n",
      "2018-07-19 05:25:53: Loss after num_examples_seen=4000 epoch=40: 6.543736\n",
      "2018-07-19 05:25:58: Loss after num_examples_seen=4100 epoch=41: 6.543665\n",
      "2018-07-19 05:26:03: Loss after num_examples_seen=4200 epoch=42: 6.543636\n",
      "2018-07-19 05:26:07: Loss after num_examples_seen=4300 epoch=43: 6.543639\n",
      "Setting learning rate to 0.000020\n",
      "2018-07-19 05:26:12: Loss after num_examples_seen=4400 epoch=44: 6.543535\n",
      "2018-07-19 05:26:16: Loss after num_examples_seen=4500 epoch=45: 6.543450\n",
      "2018-07-19 05:26:21: Loss after num_examples_seen=4600 epoch=46: 6.543382\n",
      "2018-07-19 05:26:25: Loss after num_examples_seen=4700 epoch=47: 6.543329\n",
      "2018-07-19 05:26:29: Loss after num_examples_seen=4800 epoch=48: 6.543288\n",
      "2018-07-19 05:26:34: Loss after num_examples_seen=4900 epoch=49: 6.543260\n",
      "2018-07-19 05:26:38: Loss after num_examples_seen=5000 epoch=50: 6.543241\n",
      "2018-07-19 05:26:43: Loss after num_examples_seen=5100 epoch=51: 6.543231\n",
      "2018-07-19 05:26:47: Loss after num_examples_seen=5200 epoch=52: 6.543228\n",
      "2018-07-19 05:26:52: Loss after num_examples_seen=5300 epoch=53: 6.543233\n",
      "Setting learning rate to 0.000010\n",
      "2018-07-19 05:26:56: Loss after num_examples_seen=5400 epoch=54: 6.543208\n"
     ]
    },
    {
     "ename": "KeyboardInterrupt",
     "evalue": "",
     "output_type": "error",
     "traceback": [
      "\u001b[0;31m---------------------------------------------------------------------------\u001b[0m",
      "\u001b[0;31mKeyboardInterrupt\u001b[0m                         Traceback (most recent call last)",
      "\u001b[0;32m<ipython-input-62-68ab6b69151e>\u001b[0m in \u001b[0;36m<module>\u001b[0;34m()\u001b[0m\n\u001b[1;32m      2\u001b[0m \u001b[0;31m# Train on a small subset of the data to see what happens\u001b[0m\u001b[0;34m\u001b[0m\u001b[0;34m\u001b[0m\u001b[0m\n\u001b[1;32m      3\u001b[0m \u001b[0mmodel\u001b[0m \u001b[0;34m=\u001b[0m \u001b[0mRNNTheano\u001b[0m\u001b[0;34m(\u001b[0m\u001b[0mvocabulary_size\u001b[0m\u001b[0;34m)\u001b[0m\u001b[0;34m\u001b[0m\u001b[0m\n\u001b[0;32m----> 4\u001b[0;31m \u001b[0mlosses\u001b[0m \u001b[0;34m=\u001b[0m \u001b[0mtrain_with_sgd\u001b[0m\u001b[0;34m(\u001b[0m\u001b[0mmodel\u001b[0m\u001b[0;34m,\u001b[0m \u001b[0mX_train\u001b[0m\u001b[0;34m[\u001b[0m\u001b[0;34m:\u001b[0m\u001b[0;36m100\u001b[0m\u001b[0;34m]\u001b[0m\u001b[0;34m,\u001b[0m \u001b[0my_train\u001b[0m\u001b[0;34m[\u001b[0m\u001b[0;34m:\u001b[0m\u001b[0;36m100\u001b[0m\u001b[0;34m]\u001b[0m\u001b[0;34m,\u001b[0m \u001b[0mnepoch\u001b[0m\u001b[0;34m=\u001b[0m\u001b[0;36m100\u001b[0m\u001b[0;34m,\u001b[0m \u001b[0mevaluate_loss_after\u001b[0m\u001b[0;34m=\u001b[0m\u001b[0;36m1\u001b[0m\u001b[0;34m)\u001b[0m\u001b[0;34m\u001b[0m\u001b[0m\n\u001b[0m",
      "\u001b[0;32m<ipython-input-61-c0f70c5fce4e>\u001b[0m in \u001b[0;36mtrain_with_sgd\u001b[0;34m(model, X_train, y_train, learning_rate, nepoch, evaluate_loss_after)\u001b[0m\n\u001b[1;32m     32\u001b[0m         \u001b[0;32mfor\u001b[0m \u001b[0mi\u001b[0m \u001b[0;32min\u001b[0m \u001b[0mrange\u001b[0m\u001b[0;34m(\u001b[0m\u001b[0mlen\u001b[0m\u001b[0;34m(\u001b[0m\u001b[0my_train\u001b[0m\u001b[0;34m)\u001b[0m\u001b[0;34m)\u001b[0m\u001b[0;34m:\u001b[0m\u001b[0;34m\u001b[0m\u001b[0m\n\u001b[1;32m     33\u001b[0m             \u001b[0;31m# One SGD step\u001b[0m\u001b[0;34m\u001b[0m\u001b[0;34m\u001b[0m\u001b[0m\n\u001b[0;32m---> 34\u001b[0;31m             \u001b[0mmodel\u001b[0m\u001b[0;34m.\u001b[0m\u001b[0msgd_step\u001b[0m\u001b[0;34m(\u001b[0m\u001b[0mX_train\u001b[0m\u001b[0;34m[\u001b[0m\u001b[0mi\u001b[0m\u001b[0;34m]\u001b[0m\u001b[0;34m,\u001b[0m \u001b[0my_train\u001b[0m\u001b[0;34m[\u001b[0m\u001b[0mi\u001b[0m\u001b[0;34m]\u001b[0m\u001b[0;34m,\u001b[0m \u001b[0mlearning_rate\u001b[0m\u001b[0;34m)\u001b[0m\u001b[0;34m\u001b[0m\u001b[0m\n\u001b[0m\u001b[1;32m     35\u001b[0m             \u001b[0mnum_examples_seen\u001b[0m \u001b[0;34m+=\u001b[0m \u001b[0;36m1\u001b[0m\u001b[0;34m\u001b[0m\u001b[0m\n",
      "\u001b[0;32m/usr/local/lib/python3.5/dist-packages/theano/compile/function_module.py\u001b[0m in \u001b[0;36m__call__\u001b[0;34m(self, *args, **kwargs)\u001b[0m\n\u001b[1;32m    901\u001b[0m         \u001b[0;32mtry\u001b[0m\u001b[0;34m:\u001b[0m\u001b[0;34m\u001b[0m\u001b[0m\n\u001b[1;32m    902\u001b[0m             \u001b[0moutputs\u001b[0m \u001b[0;34m=\u001b[0m\u001b[0;31m\\\u001b[0m\u001b[0;34m\u001b[0m\u001b[0m\n\u001b[0;32m--> 903\u001b[0;31m                 \u001b[0mself\u001b[0m\u001b[0;34m.\u001b[0m\u001b[0mfn\u001b[0m\u001b[0;34m(\u001b[0m\u001b[0;34m)\u001b[0m \u001b[0;32mif\u001b[0m \u001b[0moutput_subset\u001b[0m \u001b[0;32mis\u001b[0m \u001b[0;32mNone\u001b[0m \u001b[0;32melse\u001b[0m\u001b[0;31m\\\u001b[0m\u001b[0;34m\u001b[0m\u001b[0m\n\u001b[0m\u001b[1;32m    904\u001b[0m                 \u001b[0mself\u001b[0m\u001b[0;34m.\u001b[0m\u001b[0mfn\u001b[0m\u001b[0;34m(\u001b[0m\u001b[0moutput_subset\u001b[0m\u001b[0;34m=\u001b[0m\u001b[0moutput_subset\u001b[0m\u001b[0;34m)\u001b[0m\u001b[0;34m\u001b[0m\u001b[0m\n\u001b[1;32m    905\u001b[0m         \u001b[0;32mexcept\u001b[0m \u001b[0mException\u001b[0m\u001b[0;34m:\u001b[0m\u001b[0;34m\u001b[0m\u001b[0m\n",
      "\u001b[0;32m/usr/local/lib/python3.5/dist-packages/theano/scan_module/scan_op.py\u001b[0m in \u001b[0;36mrval\u001b[0;34m(p, i, o, n, allow_gc)\u001b[0m\n\u001b[1;32m    961\u001b[0m         def rval(p=p, i=node_input_storage, o=node_output_storage, n=node,\n\u001b[1;32m    962\u001b[0m                  allow_gc=allow_gc):\n\u001b[0;32m--> 963\u001b[0;31m             \u001b[0mr\u001b[0m \u001b[0;34m=\u001b[0m \u001b[0mp\u001b[0m\u001b[0;34m(\u001b[0m\u001b[0mn\u001b[0m\u001b[0;34m,\u001b[0m \u001b[0;34m[\u001b[0m\u001b[0mx\u001b[0m\u001b[0;34m[\u001b[0m\u001b[0;36m0\u001b[0m\u001b[0;34m]\u001b[0m \u001b[0;32mfor\u001b[0m \u001b[0mx\u001b[0m \u001b[0;32min\u001b[0m \u001b[0mi\u001b[0m\u001b[0;34m]\u001b[0m\u001b[0;34m,\u001b[0m \u001b[0mo\u001b[0m\u001b[0;34m)\u001b[0m\u001b[0;34m\u001b[0m\u001b[0m\n\u001b[0m\u001b[1;32m    964\u001b[0m             \u001b[0;32mfor\u001b[0m \u001b[0mo\u001b[0m \u001b[0;32min\u001b[0m \u001b[0mnode\u001b[0m\u001b[0;34m.\u001b[0m\u001b[0moutputs\u001b[0m\u001b[0;34m:\u001b[0m\u001b[0;34m\u001b[0m\u001b[0m\n\u001b[1;32m    965\u001b[0m                 \u001b[0mcompute_map\u001b[0m\u001b[0;34m[\u001b[0m\u001b[0mo\u001b[0m\u001b[0;34m]\u001b[0m\u001b[0;34m[\u001b[0m\u001b[0;36m0\u001b[0m\u001b[0;34m]\u001b[0m \u001b[0;34m=\u001b[0m \u001b[0;32mTrue\u001b[0m\u001b[0;34m\u001b[0m\u001b[0m\n",
      "\u001b[0;32m/usr/local/lib/python3.5/dist-packages/theano/scan_module/scan_op.py\u001b[0m in \u001b[0;36mp\u001b[0;34m(node, args, outs)\u001b[0m\n\u001b[1;32m    950\u001b[0m                                                 \u001b[0margs\u001b[0m\u001b[0;34m,\u001b[0m\u001b[0;34m\u001b[0m\u001b[0m\n\u001b[1;32m    951\u001b[0m                                                 \u001b[0mouts\u001b[0m\u001b[0;34m,\u001b[0m\u001b[0;34m\u001b[0m\u001b[0m\n\u001b[0;32m--> 952\u001b[0;31m                                                 self, node)\n\u001b[0m\u001b[1;32m    953\u001b[0m         \u001b[0;32mexcept\u001b[0m \u001b[0;34m(\u001b[0m\u001b[0mImportError\u001b[0m\u001b[0;34m,\u001b[0m \u001b[0mtheano\u001b[0m\u001b[0;34m.\u001b[0m\u001b[0mgof\u001b[0m\u001b[0;34m.\u001b[0m\u001b[0mcmodule\u001b[0m\u001b[0;34m.\u001b[0m\u001b[0mMissingGXX\u001b[0m\u001b[0;34m)\u001b[0m\u001b[0;34m:\u001b[0m\u001b[0;34m\u001b[0m\u001b[0m\n\u001b[1;32m    954\u001b[0m             \u001b[0mp\u001b[0m \u001b[0;34m=\u001b[0m \u001b[0mself\u001b[0m\u001b[0;34m.\u001b[0m\u001b[0mexecute\u001b[0m\u001b[0;34m\u001b[0m\u001b[0m\n",
      "\u001b[0;32mtheano/scan_module/scan_perform.pyx\u001b[0m in \u001b[0;36mtheano.scan_module.scan_perform.perform (/root/.theano/compiledir_Linux-4.13--generic-x86_64-with-Ubuntu-16.04-xenial-x86_64-3.5.2-64/scan_perform/mod.cpp:4490)\u001b[0;34m()\u001b[0m\n",
      "\u001b[0;32m/usr/local/lib/python3.5/dist-packages/theano/gof/op.py\u001b[0m in \u001b[0;36mrval\u001b[0;34m(p, i, o, n)\u001b[0m\n\u001b[1;32m    890\u001b[0m             \u001b[0;31m# default arguments are stored in the closure of `rval`\u001b[0m\u001b[0;34m\u001b[0m\u001b[0;34m\u001b[0m\u001b[0m\n\u001b[1;32m    891\u001b[0m             \u001b[0;32mdef\u001b[0m \u001b[0mrval\u001b[0m\u001b[0;34m(\u001b[0m\u001b[0mp\u001b[0m\u001b[0;34m=\u001b[0m\u001b[0mp\u001b[0m\u001b[0;34m,\u001b[0m \u001b[0mi\u001b[0m\u001b[0;34m=\u001b[0m\u001b[0mnode_input_storage\u001b[0m\u001b[0;34m,\u001b[0m \u001b[0mo\u001b[0m\u001b[0;34m=\u001b[0m\u001b[0mnode_output_storage\u001b[0m\u001b[0;34m,\u001b[0m \u001b[0mn\u001b[0m\u001b[0;34m=\u001b[0m\u001b[0mnode\u001b[0m\u001b[0;34m)\u001b[0m\u001b[0;34m:\u001b[0m\u001b[0;34m\u001b[0m\u001b[0m\n\u001b[0;32m--> 892\u001b[0;31m                 \u001b[0mr\u001b[0m \u001b[0;34m=\u001b[0m \u001b[0mp\u001b[0m\u001b[0;34m(\u001b[0m\u001b[0mn\u001b[0m\u001b[0;34m,\u001b[0m \u001b[0;34m[\u001b[0m\u001b[0mx\u001b[0m\u001b[0;34m[\u001b[0m\u001b[0;36m0\u001b[0m\u001b[0;34m]\u001b[0m \u001b[0;32mfor\u001b[0m \u001b[0mx\u001b[0m \u001b[0;32min\u001b[0m \u001b[0mi\u001b[0m\u001b[0;34m]\u001b[0m\u001b[0;34m,\u001b[0m \u001b[0mo\u001b[0m\u001b[0;34m)\u001b[0m\u001b[0;34m\u001b[0m\u001b[0m\n\u001b[0m\u001b[1;32m    893\u001b[0m                 \u001b[0;32mfor\u001b[0m \u001b[0mo\u001b[0m \u001b[0;32min\u001b[0m \u001b[0mnode\u001b[0m\u001b[0;34m.\u001b[0m\u001b[0moutputs\u001b[0m\u001b[0;34m:\u001b[0m\u001b[0;34m\u001b[0m\u001b[0m\n\u001b[1;32m    894\u001b[0m                     \u001b[0mcompute_map\u001b[0m\u001b[0;34m[\u001b[0m\u001b[0mo\u001b[0m\u001b[0;34m]\u001b[0m\u001b[0;34m[\u001b[0m\u001b[0;36m0\u001b[0m\u001b[0;34m]\u001b[0m \u001b[0;34m=\u001b[0m \u001b[0;32mTrue\u001b[0m\u001b[0;34m\u001b[0m\u001b[0m\n",
      "\u001b[0;32m/usr/local/lib/python3.5/dist-packages/theano/tensor/blas.py\u001b[0m in \u001b[0;36mperform\u001b[0;34m(self, node, inputs, out_storage, params)\u001b[0m\n\u001b[1;32m    271\u001b[0m             \u001b[0;31m#                         overwrite_y=self.inplace)\u001b[0m\u001b[0;34m\u001b[0m\u001b[0;34m\u001b[0m\u001b[0m\n\u001b[1;32m    272\u001b[0m             out_storage[0][0] = gemv(alpha, A.T, x, beta, y,\n\u001b[0;32m--> 273\u001b[0;31m                                      overwrite_y=self.inplace, trans=True)\n\u001b[0m\u001b[1;32m    274\u001b[0m         \u001b[0;32melse\u001b[0m\u001b[0;34m:\u001b[0m\u001b[0;34m\u001b[0m\u001b[0m\n\u001b[1;32m    275\u001b[0m             \u001b[0mout\u001b[0m \u001b[0;34m=\u001b[0m \u001b[0mnp\u001b[0m\u001b[0;34m.\u001b[0m\u001b[0mdot\u001b[0m\u001b[0;34m(\u001b[0m\u001b[0mA\u001b[0m\u001b[0;34m,\u001b[0m \u001b[0mx\u001b[0m\u001b[0;34m)\u001b[0m\u001b[0;34m\u001b[0m\u001b[0m\n",
      "\u001b[0;31mKeyboardInterrupt\u001b[0m: "
     ]
    }
   ],
   "source": [
    "np.random.seed(42)\n",
    "# Train on a small subset of the data to see what happens\n",
    "model = RNNTheano(vocabulary_size)\n",
    "# RNN의 배니싱 장면을 목격.\n",
    "losses = train_with_sgd(model, X_train[:100], y_train[:100], nepoch=100, evaluate_loss_after=1)"
   ]
  },
  {
   "cell_type": "markdown",
   "metadata": {},
   "source": [
    "## Test with Theano framework"
   ]
  },
  {
   "cell_type": "code",
   "execution_count": 63,
   "metadata": {},
   "outputs": [
    {
     "name": "stderr",
     "output_type": "stream",
     "text": [
      "./rnn-tutorial-rnnlm/rnn_theano.py:32: UserWarning: DEPRECATION: If x is a vector, Softmax will not automatically pad x anymore in next releases. If you need it, please do it manually. The vector case is gonna be supported soon and the output will be a vector.\n",
      "  o_t = T.nnet.softmax(V.dot(s_t))\n"
     ]
    },
    {
     "name": "stdout",
     "output_type": "stream",
     "text": [
      "Performing gradient check for parameter U with size 50.\n",
      "Gradient check for parameter U passed.\n",
      "Performing gradient check for parameter V with size 50.\n",
      "Gradient check for parameter V passed.\n",
      "Performing gradient check for parameter W with size 100.\n",
      "Gradient check for parameter W passed.\n"
     ]
    }
   ],
   "source": [
    "sys.path.append(\"./rnn-tutorial-rnnlm/\")\n",
    "from rnn_theano import RNNTheano, gradient_check_theano\n",
    "from utilsfortheano import load_model_parameters_theano, save_model_parameters_theano\n",
    "\n",
    "np.random.seed(42)\n",
    "# To avoid performing millions of expensive calculations we use a smaller vocabulary size for checking.\n",
    "grad_check_vocab_size = 5\n",
    "model = RNNTheano(grad_check_vocab_size, 10)\n",
    "gradient_check_theano(model, [0,1,2,3], [1,2,3,4])"
   ]
  },
  {
   "cell_type": "code",
   "execution_count": 64,
   "metadata": {
    "scrolled": true
   },
   "outputs": [
    {
     "name": "stderr",
     "output_type": "stream",
     "text": [
      "./rnn-tutorial-rnnlm/rnn_theano.py:32: UserWarning: DEPRECATION: If x is a vector, Softmax will not automatically pad x anymore in next releases. If you need it, please do it manually. The vector case is gonna be supported soon and the output will be a vector.\n",
      "  o_t = T.nnet.softmax(V.dot(s_t))\n"
     ]
    },
    {
     "name": "stdout",
     "output_type": "stream",
     "text": [
      "49 ms ± 894 µs per loop (mean ± std. dev. of 7 runs, 10 loops each)\n"
     ]
    },
    {
     "name": "stderr",
     "output_type": "stream",
     "text": [
      "./rnn-tutorial-rnnlm/rnn_theano.py:32: UserWarning: DEPRECATION: If x is a vector, Softmax will not automatically pad x anymore in next releases. If you need it, please do it manually. The vector case is gonna be supported soon and the output will be a vector.\n",
      "  o_t = T.nnet.softmax(V.dot(s_t))\n"
     ]
    },
    {
     "name": "stdout",
     "output_type": "stream",
     "text": [
      "Loaded model parameters from ./rnn-tutorial-rnnlm/data/trained-model-theano.npz. hidden_dim=50 word_dim=8000\n",
      "’ are sleeping and second ) just\n",
      "\n",
      "a when have public i during quickly .\n",
      "\n",
      "'re bones a other have annoying people you feel .\n",
      "\n",
      "watch if and frigate prakrit in he makes .\n",
      "\n",
      "those 're legally have do you .\n",
      "\n",
      "a when wrong to tell to latest thought did .\n",
      "\n",
      "still on players ) notch ; to from and invaded .\n",
      "\n",
      "a ] difference 's turned will ram did .\n",
      "\n",
      "read , stages google i ‘ .\n",
      "\n",
      "she want '' change are that .\n",
      "\n"
     ]
    }
   ],
   "source": [
    "np.random.seed(42)\n",
    "model = RNNTheano(vocabulary_size)\n",
    "%timeit model.sgd_step(X_train[10], y_train[10], 0.005)\n",
    "model = RNNTheano(vocabulary_size, hidden_dim=50)\n",
    "\n",
    "# losses = train_with_sgd(model, X_train, y_train, nepoch=50)\n",
    "# save_model_parameters_theano('./data/trained-model-theano.npz', model)\n",
    "load_model_parameters_theano('./rnn-tutorial-rnnlm/data/trained-model-theano.npz', model)\n",
    "def generate_sentence(model):\n",
    "    # We start the sentence with the start token\n",
    "    new_sentence = [word_to_index[sentence_start_token]]\n",
    "    # Repeat until we get an end token\n",
    "    while not new_sentence[-1] == word_to_index[sentence_end_token]:\n",
    "        next_word_probs = model.forward_propagation(new_sentence)\n",
    "        sampled_word = word_to_index[unknown_token]\n",
    "        # We don't want to sample unknown words\n",
    "        while sampled_word == word_to_index[unknown_token]:\n",
    "            samples = np.random.multinomial(1, next_word_probs[-1])\n",
    "            sampled_word = np.argmax(samples)\n",
    "        new_sentence.append(sampled_word)\n",
    "    sentence_str = [index_to_word[x] for x in new_sentence[1:-1]]\n",
    "    return sentence_str\n",
    "\n",
    "num_sentences = 10\n",
    "senten_min_length = 7\n",
    "\n",
    "for i in range(num_sentences):\n",
    "    sent = []\n",
    "    # We want long sentences, not sentences with one or two words\n",
    "    while len(sent) < senten_min_length:\n",
    "        sent = generate_sentence(model)\n",
    "    print (\" \".join(sent)+\"\\n\")"
   ]
  },
  {
   "cell_type": "code",
   "execution_count": null,
   "metadata": {},
   "outputs": [],
   "source": []
  }
 ],
 "metadata": {
  "kernelspec": {
   "display_name": "Python 3",
   "language": "python",
   "name": "python3"
  },
  "language_info": {
   "codemirror_mode": {
    "name": "ipython",
    "version": 3
   },
   "file_extension": ".py",
   "mimetype": "text/x-python",
   "name": "python",
   "nbconvert_exporter": "python",
   "pygments_lexer": "ipython3",
   "version": "3.5.2"
  }
 },
 "nbformat": 4,
 "nbformat_minor": 2
}
