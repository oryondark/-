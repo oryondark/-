{
 "cells": [
  {
   "cell_type": "markdown",
   "metadata": {},
   "source": [
    "# Occupancy Detection Data Set (UCI machine)\n",
    "**Paper : Accurate occupancy detection of an office room from light, temperature, humidity and CO2 measurements using statistical learning models. Luis M. Candanedo, VÃ©ronique Feldheim. Energy and Buildings. Volume 112, 15 January 2016, Pages 28-39.**\n",
    "\n",
    "#### Abstract:\n",
    "Experimental data used for binary classification (room occupancy) from Temperature,Humidity,Light and CO2. Ground-truth occupancy was obtained from time stamped pictures that were taken every minute.\n",
    "\n",
    "**본 논문을 토대로 MLP에서 스칼라 값을 구해 Occupancy를 측정하는 뉴럴네트워크를 구성**"
   ]
  },
  {
   "cell_type": "code",
   "execution_count": 1,
   "metadata": {},
   "outputs": [],
   "source": [
    "import os,sys,tensorflow,matplotlib\n",
    "import pandas as pd, numpy as np\n",
    "from sklearn.neural_network import MLPClassifier"
   ]
  },
  {
   "cell_type": "code",
   "execution_count": 2,
   "metadata": {},
   "outputs": [],
   "source": [
    "def dir_parser(files=os.listdir('.')):\n",
    "    for file in files:\n",
    "        if (file.split(\".\")[-1] != \"txt\"):\n",
    "            files.remove(file)\n",
    "    return files"
   ]
  },
  {
   "cell_type": "code",
   "execution_count": 3,
   "metadata": {},
   "outputs": [],
   "source": [
    "#for read data set\n",
    "def dataset_read(filePath):\n",
    "    dataset = pd.read_csv(filePath)\n",
    "    #get header info\n",
    "    #print(list(dataset))\n",
    "    \n",
    "    return dataset"
   ]
  },
  {
   "cell_type": "code",
   "execution_count": 4,
   "metadata": {
    "scrolled": true
   },
   "outputs": [],
   "source": [
    "# get Dataset to this.\n",
    "#print(dir_parser())\n",
    "\n",
    "testset_2 = dataset_read(dir_parser()[0])\n",
    "#print(testset_2.head())\n",
    "testset_1 = dataset_read(dir_parser()[1])\n",
    "#print(testset_1.head())\n",
    "train = dataset_read(dir_parser()[2])\n",
    "#print(train)"
   ]
  },
  {
   "cell_type": "code",
   "execution_count": 5,
   "metadata": {},
   "outputs": [],
   "source": [
    "#로지스틱 회귀를 씀\n",
    "#히든레이어는 6개의 뉴런 1개의 층으로 구선\n",
    "#솔버는 lbfgs를 사용함. scikitlearn에서 lbfgs는 quasi-Newton 메소드를 사용\n",
    "#lbfgs는 전체 데이터셋으로부터 시간에 따라 변화율을 측정하기 때문에 sgd보다 사실상 가장 효과적인 방법\n",
    "#그러나 적은 데이터 셋에서만 효율적이고, 대량의 데이터셋은 효과적이지 못 함.\n",
    "\n",
    "classifier = MLPClassifier(solver='lbfgs', activation='logistic',\n",
    "                         hidden_layer_sizes=(6,1), random_state=42)\n",
    "#hidden layer = (neuron = 6, of hidden layer=1)"
   ]
  },
  {
   "cell_type": "code",
   "execution_count": 6,
   "metadata": {},
   "outputs": [],
   "source": [
    "train_feat = train[[\"Temperature\",\"Humidity\",\"Light\",\"CO2\",\"HumidityRatio\"]]\n",
    "train_label = train[\"Occupancy\"]\n",
    "#print([train_CO2, train_Light])   "
   ]
  },
  {
   "cell_type": "code",
   "execution_count": 7,
   "metadata": {},
   "outputs": [],
   "source": [
    "test2_feat = testset_2[[\"Temperature\",\"Humidity\",\"Light\",\"CO2\",\"HumidityRatio\"]]\n",
    "test2_label = testset_2[\"Occupancy\"]"
   ]
  },
  {
   "cell_type": "code",
   "execution_count": 8,
   "metadata": {},
   "outputs": [],
   "source": [
    "test1_feat = testset_1[[\"Temperature\",\"Humidity\",\"Light\",\"CO2\",\"HumidityRatio\"]]\n",
    "test1_label = testset_1[\"Occupancy\"]"
   ]
  },
  {
   "cell_type": "code",
   "execution_count": 9,
   "metadata": {},
   "outputs": [
    {
     "data": {
      "text/plain": [
       "MLPClassifier(activation='logistic', alpha=0.0001, batch_size='auto',\n",
       "       beta_1=0.9, beta_2=0.999, early_stopping=False, epsilon=1e-08,\n",
       "       hidden_layer_sizes=(6, 1), learning_rate='constant',\n",
       "       learning_rate_init=0.001, max_iter=200, momentum=0.9,\n",
       "       nesterovs_momentum=True, power_t=0.5, random_state=42, shuffle=True,\n",
       "       solver='lbfgs', tol=0.0001, validation_fraction=0.1, verbose=False,\n",
       "       warm_start=False)"
      ]
     },
     "execution_count": 9,
     "metadata": {},
     "output_type": "execute_result"
    }
   ],
   "source": [
    "classifier.fit(train_feat,train_label)"
   ]
  },
  {
   "cell_type": "code",
   "execution_count": 10,
   "metadata": {},
   "outputs": [
    {
     "name": "stdout",
     "output_type": "stream",
     "text": [
      "test1 sample\n",
      "0.9789868667917448\n",
      "test2 sample\n",
      "0.9437038556193601\n"
     ]
    }
   ],
   "source": [
    "#학습된 모델에서 test샘플 2가지를 상대로 조사한 결과\n",
    "print(\"test1 sample\")\n",
    "print(classifier.score(test1_feat, test1_label))\n",
    "print(\"test2 sample\")\n",
    "print(classifier.score(test2_feat,test2_label))"
   ]
  },
  {
   "cell_type": "code",
   "execution_count": null,
   "metadata": {},
   "outputs": [],
   "source": []
  }
 ],
 "metadata": {
  "kernelspec": {
   "display_name": "Python 3",
   "language": "python",
   "name": "python3"
  },
  "language_info": {
   "codemirror_mode": {
    "name": "ipython",
    "version": 3
   },
   "file_extension": ".py",
   "mimetype": "text/x-python",
   "name": "python",
   "nbconvert_exporter": "python",
   "pygments_lexer": "ipython3",
   "version": "3.5.2"
  }
 },
 "nbformat": 4,
 "nbformat_minor": 2
}
