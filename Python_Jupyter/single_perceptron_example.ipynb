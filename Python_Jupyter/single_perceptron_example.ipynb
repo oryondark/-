{
 "cells": [
  {
   "cell_type": "markdown",
   "metadata": {},
   "source": [
    "seaborn 라이브러리를 활용하여 데이터셋 visulaizing"
   ]
  },
  {
   "cell_type": "code",
   "execution_count": 8,
   "metadata": {
    "scrolled": true
   },
   "outputs": [],
   "source": [
    "#cat iris_dataset.csv"
   ]
  },
  {
   "cell_type": "markdown",
   "metadata": {},
   "source": [
    "Pandas를 활용하여 데이터 로드"
   ]
  },
  {
   "cell_type": "code",
   "execution_count": 1,
   "metadata": {},
   "outputs": [
    {
     "name": "stderr",
     "output_type": "stream",
     "text": [
      "/usr/local/lib/python2.7/dist-packages/IPython/core/interactiveshell.py:2882: SettingWithCopyWarning: \n",
      "A value is trying to be set on a copy of a slice from a DataFrame\n",
      "\n",
      "See the caveats in the documentation: http://pandas.pydata.org/pandas-docs/stable/indexing.html#indexing-view-versus-copy\n",
      "  exec(code_obj, self.user_global_ns, self.user_ns)\n"
     ]
    }
   ],
   "source": [
    "import numpy as np\n",
    "import matplotlib.pyplot as plt\n",
    "import pandas as pd\n",
    "from sklearn.datasets import load_iris\n",
    "from sklearn.linear_model import Perceptron\n",
    "\n",
    "iris = pd.read_csv(\"iris_dataset.csv\")\n",
    "csv = iris[['class']] #꽃잎 데이터\n",
    "\n",
    "\n",
    "# 클래스를 index 번호로 치환\n",
    "i = 0\n",
    "for item in csv['class']:\n",
    "    if item == 'Iris-setosa':\n",
    "        csv['class'][i] = 0 #작은 꽃잎을 가짐\n",
    "    elif item == 'Iris-versicolor':\n",
    "        csv['class'][i] = 1\n",
    "    elif item == 'Iris-virginica' :\n",
    "        csv['class'][i] = 2 #큰 꽃잎을 가짐\n",
    "    i = i + 1"
   ]
  },
  {
   "cell_type": "code",
   "execution_count": 2,
   "metadata": {
    "scrolled": false
   },
   "outputs": [
    {
     "name": "stdout",
     "output_type": "stream",
     "text": [
      "   sepal_length  sepal_width  petal_length  petal_width        class\n",
      "0           5.1          3.5           1.4          0.2  Iris-setosa\n",
      "1           4.9          3.0           1.4          0.2  Iris-setosa\n",
      "2           4.7          3.2           1.3          0.2  Iris-setosa\n",
      "3           4.6          3.1           1.5          0.2  Iris-setosa\n",
      "4           5.0          3.6           1.4          0.2  Iris-setosa\n",
      "     sepal_length  sepal_width  petal_length  petal_width           class\n",
      "145           6.7          3.0           5.2          2.3  Iris-virginica\n",
      "146           6.3          2.5           5.0          1.9  Iris-virginica\n",
      "147           6.5          3.0           5.2          2.0  Iris-virginica\n",
      "148           6.2          3.4           5.4          2.3  Iris-virginica\n",
      "149           5.9          3.0           5.1          1.8  Iris-virginica\n"
     ]
    }
   ],
   "source": [
    "print iris.head()\n",
    "print iris.tail()"
   ]
  },
  {
   "cell_type": "code",
   "execution_count": 3,
   "metadata": {
    "scrolled": true
   },
   "outputs": [],
   "source": [
    "import seaborn as sea\n",
    "%matplotlib inline\n",
    "\n",
    "#sea.pairplot(iris, vars=[\"petal_width\", \"petal_length\"], hue=\"class\", palette=\"husl\", kind='reg')"
   ]
  },
  {
   "cell_type": "code",
   "execution_count": 4,
   "metadata": {},
   "outputs": [
    {
     "data": {
      "text/plain": [
       "<seaborn.axisgrid.PairGrid at 0x7fa5c2b23dd0>"
      ]
     },
     "execution_count": 4,
     "metadata": {},
     "output_type": "execute_result"
    },
    {
     "data": {
      "image/png": "[encoded data removed]",
      "text/plain": [
       "<matplotlib.figure.Figure at 0x7fa60651b310>"
      ]
     },
     "metadata": {},
     "output_type": "display_data"
    }
   ],
   "source": [
    "sea.pairplot(iris, x_vars=[\"petal_length\"],\n",
    "                   y_vars=[\"petal_width\" ], hue='class')"
   ]
  },
  {
   "cell_type": "markdown",
   "metadata": {},
   "source": [
    "**setosa 클래스와 그 외 다른 클래스는 정확히 분류될 수 있음을 확인**"
   ]
  },
  {
   "cell_type": "code",
   "execution_count": 5,
   "metadata": {},
   "outputs": [
    {
     "name": "stdout",
     "output_type": "stream",
     "text": [
      "150 0\n"
     ]
    },
    {
     "name": "stderr",
     "output_type": "stream",
     "text": [
      "/usr/local/lib/python2.7/dist-packages/sklearn/linear_model/stochastic_gradient.py:84: FutureWarning: max_iter and tol parameters have been added in <class 'sklearn.linear_model.perceptron.Perceptron'> in 0.19. If both are left unset, they default to max_iter=5 and tol=None. If tol is not None, max_iter defaults to max_iter=1000. From 0.21, default max_iter will be 1000, and default tol will be 1e-3.\n",
      "  \"and default tol will be 1e-3.\" % type(self), FutureWarning)\n",
      "/usr/local/lib/python2.7/dist-packages/sklearn/utils/validation.py:547: DataConversionWarning: A column-vector y was passed when a 1d array was expected. Please change the shape of y to (n_samples, ), for example using ravel().\n",
      "  y = column_or_1d(y, warn=True)\n"
     ]
    },
    {
     "data": {
      "text/plain": [
       "Perceptron(alpha=0.0001, class_weight=None, eta0=1.0, fit_intercept=True,\n",
       "      max_iter=5, n_iter=None, n_jobs=1, penalty=None, random_state=42,\n",
       "      shuffle=True, tol=None, verbose=0, warm_start=False)"
      ]
     },
     "execution_count": 5,
     "metadata": {},
     "output_type": "execute_result"
    }
   ],
   "source": [
    "from sklearn.model_selection import train_test_split\n",
    "data = iris[['petal_length','petal_width']]\n",
    "\n",
    "# class가 '0'이라면, True, 그렇지 않을 경우 False이며, 결국 setosa는 1로 맵핑\n",
    "target = (csv == 0).astype(np.int) \n",
    "\n",
    "#트레이닝 셋과 테스트 셋을 자동으로 분류해주는 역할\n",
    "X_train, X_test, Y_train, Y_test = train_test_split(data.get_values(), target.get_values(), test_size=0, random_state=42)\n",
    "print len(X_train), len(X_test)\n",
    "'''\n",
    "for i,x in enumerate(X_train.tolist()):\n",
    "    print i,x\n",
    "for i,y in enumerate(Y_train):\n",
    "    print i,y\n",
    "'''\n",
    "#trainning\n",
    "clf = Perceptron(random_state=42)\n",
    "clf.fit(X_train.tolist(), Y_train)"
   ]
  },
  {
   "cell_type": "code",
   "execution_count": 6,
   "metadata": {
    "scrolled": true
   },
   "outputs": [
    {
     "name": "stdout",
     "output_type": "stream",
     "text": [
      "9.0\n",
      "3.8\n",
      "5.8\n",
      "3.8\n",
      "2.5\n",
      "2.6\n",
      "1.4\n",
      "1.6\n",
      "2.5\n",
      "[0]\n",
      "[0]\n",
      "[0]\n",
      "[0]\n",
      "[1]\n",
      "[1]\n",
      "[1]\n",
      "[1]\n",
      "[1]\n"
     ]
    }
   ],
   "source": [
    "#pred_iris = pd.read_csv(\"iris_dataset_test.csv\")\n",
    "#print pred_iris[\"petal_length\"].tolist\n",
    "\n",
    "#이 배열을 확인해보면, 학습 데이터는 배열 내 배열 하나씩 입력하게 되며, input vector로는 배열 내 각 요소가 입력된다.\n",
    "#따라서 현재 구현된 퍼셉트론은 2개의 input을 받고, 가중치 연산 후 합산하여 단위계단 함수로 결과를 출력한다.\n",
    "testdata = [[6.3, 2.7], [2.3, 1.5], [4.7,1.1], [2.8, 1.0], \n",
    "            [1.5, 1.0],[2.3, 0.3],[1.1, 0.3], [1.1, 0.5], [2,0.5]]\n",
    "\n",
    "for x,y in testdata:\n",
    "    #plt.scatter(x,y)\n",
    "    print x+y\n",
    "    \n",
    "# 본 예제에서 Perceptron은 petal의 각 너비와 길이마다 가중치가 다르게 적용되어, 합산 후 0 또는 1로 활성화 조건을 달성\n",
    "#꽃잎이 작은 setosa 는 1로, 나머진 0으로 매칭하도록 설정\n",
    "for i in testdata:\n",
    "    y_pred = clf.predict([i])\n",
    "    print y_pred\n",
    "\n",
    "    \n",
    "#수치를 변경하여 적용할때마다 확인한 결과 임계치 2.5를 넘기면 큰 꽃잎, 못 넘기면 작은 꽃잎으로 분류"
   ]
  },
  {
   "cell_type": "code",
   "execution_count": null,
   "metadata": {
    "collapsed": true
   },
   "outputs": [],
   "source": []
  }
 ],
 "metadata": {
  "kernelspec": {
   "display_name": "Python 2",
   "language": "python",
   "name": "python2"
  },
  "language_info": {
   "codemirror_mode": {
    "name": "ipython",
    "version": 2
   },
   "file_extension": ".py",
   "mimetype": "text/x-python",
   "name": "python",
   "nbconvert_exporter": "python",
   "pygments_lexer": "ipython2",
   "version": "2.7.12"
  }
 },
 "nbformat": 4,
 "nbformat_minor": 2
}
